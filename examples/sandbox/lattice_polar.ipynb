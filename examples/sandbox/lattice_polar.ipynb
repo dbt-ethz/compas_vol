{
 "cells": [
  {
   "cell_type": "markdown",
   "id": "00d36347",
   "metadata": {},
   "source": [
    "## import libraries"
   ]
  },
  {
   "cell_type": "code",
   "execution_count": 1,
   "id": "11fb02c2",
   "metadata": {},
   "outputs": [],
   "source": [
    "import numpy as np\n",
    "import meshplot as mp\n",
    "from skimage.measure import marching_cubes"
   ]
  },
  {
   "cell_type": "code",
   "execution_count": 2,
   "id": "383fb0e0",
   "metadata": {},
   "outputs": [],
   "source": [
    "from compas.geometry import Point, Plane, Frame, Circle, Cylinder\n",
    "from compas_vol.microstructures import LatticePolar\n",
    "from compas_vol.primitives import VolCylinder\n",
    "from compas_vol.combinations import SmoothUnion, Intersection"
   ]
  },
  {
   "cell_type": "markdown",
   "id": "9c507fb1",
   "metadata": {},
   "source": [
    "## workspace (dense grid)"
   ]
  },
  {
   "cell_type": "code",
   "execution_count": 3,
   "id": "d644dbb4",
   "metadata": {},
   "outputs": [],
   "source": [
    "#workspace initialization\n",
    "x, y, z = np.ogrid[-16:16:124j, -20:20:184j, -16:16:124j]\n",
    "#voxel dimensions\n",
    "gx = 32/112\n",
    "gy = 40/184\n",
    "gz = 32/112"
   ]
  },
  {
   "cell_type": "markdown",
   "id": "532ffe9e",
   "metadata": {},
   "source": [
    "## create volumetric object (CSG tree)"
   ]
  },
  {
   "cell_type": "code",
   "execution_count": 4,
   "id": "2b8c0f8b",
   "metadata": {},
   "outputs": [],
   "source": [
    "lat = LatticePolar(1, 8.0, 1.2, 8, frame=Frame([0,0,0],[0,0,1],[1,0,0]))"
   ]
  },
  {
   "cell_type": "code",
   "execution_count": 5,
   "id": "8a9f05ea",
   "metadata": {},
   "outputs": [],
   "source": [
    "c1 = VolCylinder(Cylinder(Circle(Plane([0,0,0], [0,1,0]), 1.0), 39))\n",
    "c2 = VolCylinder(Cylinder(Circle(Plane([0,0,0], [0,1,0]), 12.0), 36))"
   ]
  },
  {
   "cell_type": "code",
   "execution_count": 6,
   "id": "f787c8ff",
   "metadata": {},
   "outputs": [],
   "source": [
    "i = Intersection(c2, lat)\n",
    "su = SmoothUnion(c1, i, 2.5)"
   ]
  },
  {
   "cell_type": "markdown",
   "id": "2aefbf04",
   "metadata": {},
   "source": [
    "## sample at discrete interval"
   ]
  },
  {
   "cell_type": "code",
   "execution_count": 7,
   "id": "1d78ab3d",
   "metadata": {},
   "outputs": [],
   "source": [
    "m = su.get_distance_numpy(x, y, z)"
   ]
  },
  {
   "cell_type": "markdown",
   "id": "9e1a70ac",
   "metadata": {},
   "source": [
    "## generate isosurface (marching cube)"
   ]
  },
  {
   "cell_type": "code",
   "execution_count": 8,
   "id": "b1552181",
   "metadata": {},
   "outputs": [],
   "source": [
    "v, f, n, l = marching_cubes(m, 0, spacing=(gx, gy, gz))"
   ]
  },
  {
   "cell_type": "markdown",
   "id": "35c100d0",
   "metadata": {},
   "source": [
    "## display mesh"
   ]
  },
  {
   "cell_type": "code",
   "execution_count": 9,
   "id": "7a53413b",
   "metadata": {},
   "outputs": [
    {
     "name": "stdout",
     "output_type": "stream",
     "text": [
      "use fc slider for cutting plane\n"
     ]
    },
    {
     "data": {
      "application/vnd.jupyter.widget-view+json": {
       "model_id": "db51650647f74ba3bda874ed6f94bd24",
       "version_major": 2,
       "version_minor": 0
      },
      "text/plain": [
       "Renderer(camera=PerspectiveCamera(children=(DirectionalLight(color='white', intensity=0.6, position=(17.571428…"
      ]
     },
     "metadata": {},
     "output_type": "display_data"
    },
    {
     "data": {
      "application/vnd.jupyter.widget-view+json": {
       "model_id": "dc8b7c28bb564599a5333cc4e7256d21",
       "version_major": 2,
       "version_minor": 0
      },
      "text/plain": [
       "interactive(children=(IntSlider(value=420000, description='fc', max=420000), Output()), _dom_classes=('widget-…"
      ]
     },
     "metadata": {},
     "output_type": "display_data"
    }
   ],
   "source": [
    "print('use fc slider for cutting plane')\n",
    "p = mp.plot(v, f, c=np.array([0,0.57,1.0]), shading={\"flat\":False, \"roughness\":0.4, \"metalness\":0.01, \"reflectivity\":1.0})\n",
    "\n",
    "@mp.interact(fc=(0,420000))\n",
    "def facefilter(fc=420000):\n",
    "    p.update_object(faces=f[:fc])"
   ]
  }
 ],
 "metadata": {
  "kernelspec": {
   "display_name": "Python 3 (ipykernel)",
   "language": "python",
   "name": "python3"
  },
  "language_info": {
   "codemirror_mode": {
    "name": "ipython",
    "version": 3
   },
   "file_extension": ".py",
   "mimetype": "text/x-python",
   "name": "python",
   "nbconvert_exporter": "python",
   "pygments_lexer": "ipython3",
   "version": "3.9.6"
  }
 },
 "nbformat": 4,
 "nbformat_minor": 5
}
