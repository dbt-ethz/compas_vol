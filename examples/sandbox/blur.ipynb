{
 "cells": [
  {
   "cell_type": "markdown",
   "id": "00698036",
   "metadata": {},
   "source": [
    "## import librairies"
   ]
  },
  {
   "cell_type": "code",
   "execution_count": 1,
   "id": "0bece87c",
   "metadata": {},
   "outputs": [],
   "source": [
    "import numpy as np\n",
    "import meshplot as mp\n",
    "from skimage.measure import marching_cubes"
   ]
  },
  {
   "cell_type": "code",
   "execution_count": 2,
   "id": "fd4a34d9",
   "metadata": {},
   "outputs": [],
   "source": [
    "from compas_vol.primitives import VolExtrusion\n",
    "from compas.geometry import Frame"
   ]
  },
  {
   "cell_type": "code",
   "execution_count": 21,
   "id": "01d0571f",
   "metadata": {},
   "outputs": [],
   "source": [
    "from compas_vol.primitives import VolBox\n",
    "from compas_vol.combinations import Union\n",
    "from compas_vol.modifications import Blur\n",
    "from compas.geometry import Box, Frame\n",
    "import random"
   ]
  },
  {
   "cell_type": "markdown",
   "id": "52ed2a26",
   "metadata": {},
   "source": [
    "## workspace (dense grid)"
   ]
  },
  {
   "cell_type": "code",
   "execution_count": 40,
   "id": "9080d07b",
   "metadata": {},
   "outputs": [],
   "source": [
    "#workspace initialization\n",
    "x, y, z = np.ogrid[-30:30:120j, -30:30:120j, -30:30:120j]\n",
    "#voxel dimensions\n",
    "gx = 60/120\n",
    "gy = 60/120\n",
    "gz = 60/120"
   ]
  },
  {
   "cell_type": "markdown",
   "id": "c1447f3c",
   "metadata": {},
   "source": [
    "## constructive solid geometry"
   ]
  },
  {
   "cell_type": "code",
   "execution_count": 41,
   "id": "8b679df4",
   "metadata": {},
   "outputs": [],
   "source": [
    "boxes = []\n",
    "for i in range(20):\n",
    "    pt = [random.random()*8-4 for _ in range(3)]\n",
    "    xa = [random.random() for _ in range(3)]\n",
    "    ya = [random.random() for _ in range(3)]\n",
    "    b = Box(Frame(pt, xa, ya), 4, 3, 2)\n",
    "    vb = VolBox(b)\n",
    "    boxes.append(vb)\n"
   ]
  },
  {
   "cell_type": "markdown",
   "id": "af01a3e0",
   "metadata": {},
   "source": [
    "## create volumetric object"
   ]
  },
  {
   "cell_type": "code",
   "execution_count": 42,
   "id": "ce5e4bf6",
   "metadata": {},
   "outputs": [],
   "source": [
    "u = Union(boxes)"
   ]
  },
  {
   "cell_type": "markdown",
   "id": "5c2b77b7",
   "metadata": {},
   "source": [
    "## sample at discrete interval"
   ]
  },
  {
   "cell_type": "code",
   "execution_count": 46,
   "id": "66db62a9",
   "metadata": {},
   "outputs": [],
   "source": [
    "m = u.get_distance_numpy(x, y, z)\n",
    "b = Blur(m, radius=1.2)\n",
    "o = b.get_blurred()"
   ]
  },
  {
   "cell_type": "markdown",
   "id": "915a8ab1",
   "metadata": {},
   "source": [
    "## generate isosurface (marching cube)"
   ]
  },
  {
   "cell_type": "code",
   "execution_count": 49,
   "id": "03726d70",
   "metadata": {},
   "outputs": [],
   "source": [
    "v, f, n, l = marching_cubes(o, 0, spacing=(gx, gy, gz))"
   ]
  },
  {
   "cell_type": "markdown",
   "id": "a01c758c",
   "metadata": {},
   "source": [
    "## display mesh"
   ]
  },
  {
   "cell_type": "code",
   "execution_count": 50,
   "id": "9dfa31bd",
   "metadata": {},
   "outputs": [
    {
     "data": {
      "application/vnd.jupyter.widget-view+json": {
       "model_id": "d95f5e20ad594942b2f9c1ef80a94ce5",
       "version_major": 2,
       "version_minor": 0
      },
      "text/plain": [
       "Renderer(camera=PerspectiveCamera(children=(DirectionalLight(color='white', intensity=0.6, position=(29.916772…"
      ]
     },
     "metadata": {},
     "output_type": "display_data"
    },
    {
     "data": {
      "text/plain": [
       "<meshplot.Viewer.Viewer at 0x2a56da95430>"
      ]
     },
     "execution_count": 50,
     "metadata": {},
     "output_type": "execute_result"
    }
   ],
   "source": [
    "mp.plot(v, f, c=np.array([0,0.57,0.82]), shading={\"flat\":True, \"roughness\":0.4, \"metalness\":0.01, \"reflectivity\":1.0})"
   ]
  }
 ],
 "metadata": {
  "kernelspec": {
   "display_name": "Python 3 (ipykernel)",
   "language": "python",
   "name": "python3"
  },
  "language_info": {
   "codemirror_mode": {
    "name": "ipython",
    "version": 3
   },
   "file_extension": ".py",
   "mimetype": "text/x-python",
   "name": "python",
   "nbconvert_exporter": "python",
   "pygments_lexer": "ipython3",
   "version": "3.9.6"
  }
 },
 "nbformat": 4,
 "nbformat_minor": 5
}
