{
 "cells": [
  {
   "cell_type": "markdown",
   "id": "bb0b3d0c",
   "metadata": {},
   "source": [
    "## import librairies"
   ]
  },
  {
   "cell_type": "code",
   "execution_count": 1,
   "id": "5257e4ef",
   "metadata": {},
   "outputs": [],
   "source": [
    "import numpy as np\n",
    "import meshplot as mp\n",
    "from skimage.measure import marching_cubes"
   ]
  },
  {
   "cell_type": "code",
   "execution_count": 2,
   "id": "666a4f20",
   "metadata": {},
   "outputs": [],
   "source": [
    "from compas_vol.primitives import VolExtrusion\n",
    "from compas.geometry import Frame"
   ]
  },
  {
   "cell_type": "code",
   "execution_count": 21,
   "id": "64b7ac3c",
   "metadata": {},
   "outputs": [],
   "source": [
    "from compas_vol.primitives import VolBox\n",
    "from compas_vol.combinations import Union\n",
    "from compas_vol.modifications import Blur\n",
    "from compas.geometry import Box, Frame\n",
    "import random"
   ]
  },
  {
   "cell_type": "markdown",
   "id": "0186e515",
   "metadata": {},
   "source": [
    "## workspace (dense grid)"
   ]
  },
  {
   "cell_type": "code",
   "execution_count": 40,
   "id": "85185205",
   "metadata": {},
   "outputs": [],
   "source": [
    "#workspace initialization\n",
    "x, y, z = np.ogrid[-30:30:120j, -30:30:120j, -30:30:120j]\n",
    "#voxel dimensions\n",
    "gx = 60/120\n",
    "gy = 60/120\n",
    "gz = 60/120"
   ]
  },
  {
   "cell_type": "markdown",
   "id": "fd46d01f",
   "metadata": {},
   "source": [
    "## constructive solid geometry"
   ]
  },
  {
   "cell_type": "code",
   "execution_count": 41,
   "id": "00a2b262",
   "metadata": {},
   "outputs": [],
   "source": [
    "boxes = []\n",
    "for i in range(20):\n",
    "    pt = [random.random()*8-4 for _ in range(3)]\n",
    "    xa = [random.random() for _ in range(3)]\n",
    "    ya = [random.random() for _ in range(3)]\n",
    "    b = Box(Frame(pt, xa, ya), 4, 3, 2)\n",
    "    vb = VolBox(b)\n",
    "    boxes.append(vb)"
   ]
  },
  {
   "cell_type": "markdown",
   "id": "5714fde3",
   "metadata": {},
   "source": [
    "## create volumetric object"
   ]
  },
  {
   "cell_type": "code",
   "execution_count": 42,
   "id": "120eaa31",
   "metadata": {},
   "outputs": [],
   "source": [
    "u = Union(boxes)"
   ]
  },
  {
   "cell_type": "markdown",
   "id": "b650aad1",
   "metadata": {},
   "source": [
    "## sample at discrete interval"
   ]
  },
  {
   "cell_type": "code",
   "execution_count": 46,
   "id": "629ef122",
   "metadata": {},
   "outputs": [],
   "source": [
    "m = u.get_distance_numpy(x, y, z)\n",
    "b = Blur(m, radius=1.2)\n",
    "o = b.get_blurred()"
   ]
  },
  {
   "cell_type": "markdown",
   "id": "dbaeec3c",
   "metadata": {},
   "source": [
    "## generate isosurface (marching cube)"
   ]
  },
  {
   "cell_type": "code",
   "execution_count": 49,
   "id": "e9d07669",
   "metadata": {},
   "outputs": [],
   "source": [
    "v, f, n, l = marching_cubes(o, 0, spacing=(gx, gy, gz))"
   ]
  },
  {
   "cell_type": "markdown",
   "id": "636ea4aa",
   "metadata": {},
   "source": [
    "## display mesh"
   ]
  },
  {
   "cell_type": "code",
   "execution_count": 50,
   "id": "9d79ea45",
   "metadata": {},
   "outputs": [
    {
     "data": {
      "application/vnd.jupyter.widget-view+json": {
       "model_id": "d95f5e20ad594942b2f9c1ef80a94ce5",
       "version_major": 2,
       "version_minor": 0
      },
      "text/plain": [
       "Renderer(camera=PerspectiveCamera(children=(DirectionalLight(color='white', intensity=0.6, position=(29.916772…"
      ]
     },
     "metadata": {},
     "output_type": "display_data"
    },
    {
     "data": {
      "text/plain": [
       "<meshplot.Viewer.Viewer at 0x2a56da95430>"
      ]
     },
     "execution_count": 50,
     "metadata": {},
     "output_type": "execute_result"
    }
   ],
   "source": [
    "mp.plot(v, f, c=np.array([0,0.57,0.82]), shading={\"flat\":True, \"roughness\":0.4, \"metalness\":0.01, \"reflectivity\":1.0})"
   ]
  }
 ],
 "metadata": {
  "kernelspec": {
   "display_name": "Python 3 (ipykernel)",
   "language": "python",
   "name": "python3"
  },
  "language_info": {
   "codemirror_mode": {
    "name": "ipython",
    "version": 3
   },
   "file_extension": ".py",
   "mimetype": "text/x-python",
   "name": "python",
   "nbconvert_exporter": "python",
   "pygments_lexer": "ipython3",
   "version": "3.9.6"
  }
 },
 "nbformat": 4,
 "nbformat_minor": 5
}
