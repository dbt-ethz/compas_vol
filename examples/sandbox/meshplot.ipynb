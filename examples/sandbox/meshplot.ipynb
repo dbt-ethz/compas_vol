{
 "cells": [
  {
   "cell_type": "markdown",
   "source": [
    "# Meshplot Example"
   ],
   "metadata": {}
  },
  {
   "cell_type": "code",
   "execution_count": 1,
   "source": [
    "import numpy as np\n",
    "import meshplot as mp\n",
    "from skimage.measure import marching_cubes\n",
    "\n",
    "from compas.geometry import Point, Frame, Box\n",
    "from compas_vol.primitives import VolBox"
   ],
   "outputs": [],
   "metadata": {}
  },
  {
   "cell_type": "code",
   "execution_count": 2,
   "source": [
    "box = Box(Frame(Point(0,0,0), (1,0.2,-0.3), (0,1,0.4)), 25, 20, 15)\n",
    "vbox = VolBox(box, 4.0)"
   ],
   "outputs": [],
   "metadata": {}
  },
  {
   "cell_type": "code",
   "execution_count": 3,
   "source": [
    "x, y = np.ogrid[-20:20:128j,-20:20:128j]\n",
    "dm = vbox.get_distance_numpy(x, y, 0)"
   ],
   "outputs": [],
   "metadata": {}
  },
  {
   "cell_type": "code",
   "execution_count": 32,
   "source": [
    "xx = np.linspace(-20,20,128)\n",
    "yy = np.linspace(-20,20,128)\n",
    "v = np.meshgrid(xx,yy)"
   ],
   "outputs": [],
   "metadata": {}
  },
  {
   "cell_type": "code",
   "execution_count": 44,
   "source": [
    "v3 = np.zeros((128**2,3))\n",
    "v3[:,0] = v[1].reshape(-1)\n",
    "v3[:,1] = v[0].reshape(-1)\n",
    "v3[:5,:]"
   ],
   "outputs": [
    {
     "output_type": "execute_result",
     "data": {
      "text/plain": [
       "array([[-20.        , -20.        ,   0.        ],\n",
       "       [-20.        , -19.68503937,   0.        ],\n",
       "       [-20.        , -19.37007874,   0.        ],\n",
       "       [-20.        , -19.05511811,   0.        ],\n",
       "       [-20.        , -18.74015748,   0.        ]])"
      ]
     },
     "metadata": {},
     "execution_count": 44
    }
   ],
   "metadata": {}
  },
  {
   "cell_type": "code",
   "execution_count": 42,
   "source": [
    "x, y, z = np.ogrid[-20:20:128j,-20:20:128j,-20:20:128j]\n",
    "dm3 = vbox.get_distance_numpy(x, y, z)"
   ],
   "outputs": [],
   "metadata": {}
  },
  {
   "cell_type": "code",
   "execution_count": null,
   "source": [
    "# calculate voxel size\n",
    "g = 40/128.0\n",
    "# generate isosurface (MC mesh)\n",
    "vm, fm, n, l = marching_cubes(dm3, 0, spacing=(g,g,g))\n",
    "# move mesh to origin\n",
    "vm -= 20"
   ],
   "outputs": [],
   "metadata": {}
  },
  {
   "cell_type": "markdown",
   "source": [
    "## Visualization"
   ],
   "metadata": {}
  },
  {
   "cell_type": "code",
   "execution_count": 48,
   "source": [
    "p = mp.plot(vm, fm, shading={\"flat\":False})\n",
    "p.add_points(v3, c=np.sin(dm.reshape(-1)), shading={\"point_size\": 2.5})"
   ],
   "outputs": [
    {
     "output_type": "display_data",
     "data": {
      "text/plain": [
       "Renderer(camera=PerspectiveCamera(children=(DirectionalLight(color='white', intensity=0.6, position=(-0.156249…"
      ],
      "application/vnd.jupyter.widget-view+json": {
       "version_major": 2,
       "version_minor": 0,
       "model_id": "8acedcf3ac594f10a19b5c16ae22425d"
      }
     },
     "metadata": {}
    },
    {
     "output_type": "execute_result",
     "data": {
      "text/plain": [
       "1"
      ]
     },
     "metadata": {},
     "execution_count": 48
    }
   ],
   "metadata": {}
  },
  {
   "cell_type": "code",
   "execution_count": null,
   "source": [],
   "outputs": [],
   "metadata": {}
  }
 ],
 "metadata": {
  "orig_nbformat": 4,
  "language_info": {
   "name": "python"
  }
 },
 "nbformat": 4,
 "nbformat_minor": 2
}