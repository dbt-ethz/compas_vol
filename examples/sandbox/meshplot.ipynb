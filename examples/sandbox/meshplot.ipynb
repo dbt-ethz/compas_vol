{
 "cells": [
  {
   "cell_type": "code",
   "execution_count": 1,
   "source": [
    "import numpy as np\n",
    "import meshplot as mp\n",
    "from skimage.measure import marching_cubes\n",
    "\n",
    "from compas.geometry import Point, Frame, Box\n",
    "from compas_vol.primitives import VolBox"
   ],
   "outputs": [],
   "metadata": {}
  },
  {
   "cell_type": "code",
   "execution_count": 2,
   "source": [
    "box = Box(Frame(Point(0,0,0), (1,0.2,-0.3), (0,1,0.4)), 25, 20, 15)\n",
    "vbox = VolBox(box, 4.0)"
   ],
   "outputs": [],
   "metadata": {}
  },
  {
   "cell_type": "code",
   "execution_count": 3,
   "source": [
    "x, y = np.ogrid[-20:20:128j,-20:20:128j]\n",
    "dm = vbox.get_distance_numpy(x, y, 0)"
   ],
   "outputs": [],
   "metadata": {}
  },
  {
   "cell_type": "code",
   "execution_count": 32,
   "source": [
    "xx = np.linspace(-20,20,128)\n",
    "yy = np.linspace(-20,20,128)\n",
    "v = np.meshgrid(xx,yy)\n",
    "#v = np.meshgrid(np.arange(128),np.arange(128))"
   ],
   "outputs": [],
   "metadata": {}
  },
  {
   "cell_type": "code",
   "execution_count": 33,
   "source": [
    "v3 = np.zeros((128**2,3))\n",
    "v3[:,0] = v[0].reshape(-1)\n",
    "v3[:,1] = v[1].reshape(-1)\n",
    "v3[:5,:]"
   ],
   "outputs": [
    {
     "output_type": "execute_result",
     "data": {
      "text/plain": [
       "array([[-20.        , -20.        ,   0.        ],\n",
       "       [-19.68503937, -20.        ,   0.        ],\n",
       "       [-19.37007874, -20.        ,   0.        ],\n",
       "       [-19.05511811, -20.        ,   0.        ],\n",
       "       [-18.74015748, -20.        ,   0.        ]])"
      ]
     },
     "metadata": {},
     "execution_count": 33
    }
   ],
   "metadata": {}
  },
  {
   "cell_type": "code",
   "execution_count": 37,
   "source": [
    "x, y, z = np.ogrid[-20:20:128j,-20:20:128j,-20:20:128j]\n",
    "dm3 = vbox.get_distance_numpy(x, y, z)\n",
    "vm, fm, n, l = marching_cubes(dm3, 0)"
   ],
   "outputs": [],
   "metadata": {}
  },
  {
   "cell_type": "code",
   "execution_count": 39,
   "source": [
    "p = mp.plot(vm,fm)\n",
    "p.add_points(v3, c=np.sin(dm.reshape(-1)), shading={\"point_size\": 2.0})"
   ],
   "outputs": [
    {
     "output_type": "display_data",
     "data": {
      "text/plain": [
       "Renderer(camera=PerspectiveCamera(children=(DirectionalLight(color='white', intensity=0.6, position=(63.500000…"
      ],
      "application/vnd.jupyter.widget-view+json": {
       "version_major": 2,
       "version_minor": 0,
       "model_id": "30aa121df3fb4b439c1dfd2f125486c5"
      }
     },
     "metadata": {}
    },
    {
     "output_type": "execute_result",
     "data": {
      "text/plain": [
       "1"
      ]
     },
     "metadata": {},
     "execution_count": 39
    }
   ],
   "metadata": {}
  },
  {
   "cell_type": "code",
   "execution_count": 31,
   "source": [
    "xx = np.linspace(-20,20,128)\n",
    "yy = np.linspace(-20,20,128)"
   ],
   "outputs": [],
   "metadata": {}
  },
  {
   "cell_type": "code",
   "execution_count": null,
   "source": [],
   "outputs": [],
   "metadata": {}
  }
 ],
 "metadata": {
  "orig_nbformat": 4,
  "language_info": {
   "name": "python"
  }
 },
 "nbformat": 4,
 "nbformat_minor": 2
}