{
 "cells": [
  {
   "cell_type": "markdown",
   "id": "30f3648c",
   "metadata": {},
   "source": [
    "## import libraries"
   ]
  },
  {
   "cell_type": "code",
   "execution_count": 1,
   "id": "34f22a45",
   "metadata": {},
   "outputs": [],
   "source": [
    "import numpy as np\n",
    "import meshplot as mp\n",
    "from skimage.measure import marching_cubes"
   ]
  },
  {
   "cell_type": "code",
   "execution_count": 2,
   "id": "b0ae113e",
   "metadata": {},
   "outputs": [],
   "source": [
    "from compas.geometry import Point, Sphere\n",
    "from compas_vol.microstructures import Voronoi\n",
    "from compas_vol.primitives import VolSphere\n",
    "from compas_vol.combinations import Intersection"
   ]
  },
  {
   "cell_type": "markdown",
   "id": "081d1df0",
   "metadata": {},
   "source": [
    "## workspace (dense grid)"
   ]
  },
  {
   "cell_type": "code",
   "execution_count": 3,
   "id": "08161109",
   "metadata": {},
   "outputs": [],
   "source": [
    "#workspace initialization\n",
    "x, y, z = np.ogrid[-30:30:100j, -30:30:100j, -30:30:100j]\n",
    "#voxel dimensions\n",
    "gx = 60/100\n",
    "gy = 60/100\n",
    "gz = 60/100"
   ]
  },
  {
   "cell_type": "markdown",
   "id": "680d1320",
   "metadata": {},
   "source": [
    "## random points cloud generation"
   ]
  },
  {
   "cell_type": "code",
   "execution_count": 4,
   "id": "ddce6e92",
   "metadata": {},
   "outputs": [],
   "source": [
    "nbr_pts = 16\n",
    "coordinates = np.random.uniform(-30, 30, (nbr_pts,3))\n",
    "pts = [Point(px,py,pz) for (px,py,pz) in coordinates]"
   ]
  },
  {
   "cell_type": "markdown",
   "id": "c464958b",
   "metadata": {},
   "source": [
    "## create volumetric object (CSG tree)"
   ]
  },
  {
   "cell_type": "code",
   "execution_count": 5,
   "id": "03cc8b27",
   "metadata": {},
   "outputs": [],
   "source": [
    "s = Sphere(Point(0,0,0), 25)\n",
    "vs = VolSphere (s)\n",
    "v = Voronoi(pts, thickness=2.0)\n",
    "u = Intersection(vs, v)"
   ]
  },
  {
   "cell_type": "markdown",
   "id": "ca3cc7eb",
   "metadata": {},
   "source": [
    "## sample at discrete interval"
   ]
  },
  {
   "cell_type": "code",
   "execution_count": 6,
   "id": "facb5020",
   "metadata": {},
   "outputs": [],
   "source": [
    "dm = u.get_distance_numpy(x, y, z)"
   ]
  },
  {
   "cell_type": "markdown",
   "id": "9d54b463",
   "metadata": {},
   "source": [
    "## generate isosurface(marching cube)"
   ]
  },
  {
   "cell_type": "code",
   "execution_count": 7,
   "id": "175c6336",
   "metadata": {},
   "outputs": [],
   "source": [
    "v, f, n, l = marching_cubes(dm, 0, spacing=(gx, gy, gz))"
   ]
  },
  {
   "cell_type": "markdown",
   "id": "f4f97e6a",
   "metadata": {},
   "source": [
    "## display mesh"
   ]
  },
  {
   "cell_type": "code",
   "execution_count": 8,
   "id": "ce816ab8",
   "metadata": {},
   "outputs": [
    {
     "name": "stdout",
     "output_type": "stream",
     "text": [
      "use fc slider for cutting plane\n"
     ]
    },
    {
     "data": {
      "application/vnd.jupyter.widget-view+json": {
       "model_id": "36e94a022b6c45cda847595e0f186f2d",
       "version_major": 2,
       "version_minor": 0
      },
      "text/plain": [
       "Renderer(camera=PerspectiveCamera(children=(DirectionalLight(color='white', intensity=0.6, position=(29.857302…"
      ]
     },
     "metadata": {},
     "output_type": "display_data"
    },
    {
     "data": {
      "application/vnd.jupyter.widget-view+json": {
       "model_id": "166a561ba85545fa8c463b541a5e9473",
       "version_major": 2,
       "version_minor": 0
      },
      "text/plain": [
       "interactive(children=(IntSlider(value=120000, description='fc', max=120000), Output()), _dom_classes=('widget-…"
      ]
     },
     "metadata": {},
     "output_type": "display_data"
    }
   ],
   "source": [
    "print('use fc slider for cutting plane')\n",
    "p = mp.plot(v, f, c=np.array([0,0.57,0.82]), shading={\"flat\":True, \"roughness\":0.4, \"metalness\":0.01, \"reflectivity\":1.0})\n",
    "\n",
    "@mp.interact(fc=(0,120000))\n",
    "def facefilter(fc=120000):\n",
    "    p.update_object(faces=f[:fc])"
   ]
  }
 ],
 "metadata": {
  "kernelspec": {
   "display_name": "Python 3 (ipykernel)",
   "language": "python",
   "name": "python3"
  },
  "language_info": {
   "codemirror_mode": {
    "name": "ipython",
    "version": 3
   },
   "file_extension": ".py",
   "mimetype": "text/x-python",
   "name": "python",
   "nbconvert_exporter": "python",
   "pygments_lexer": "ipython3",
   "version": "3.9.6"
  }
 },
 "nbformat": 4,
 "nbformat_minor": 5
}
