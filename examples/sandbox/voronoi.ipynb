{
 "cells": [
  {
   "cell_type": "markdown",
   "id": "30f3648c",
   "metadata": {},
   "source": [
    "## import libraries"
   ]
  },
  {
   "cell_type": "code",
   "execution_count": 1,
   "id": "b0ae113e",
   "metadata": {},
   "outputs": [],
   "source": [
    "from compas.geometry import Point, Sphere\n",
    "from compas_vol.microstructures import Voronoi\n",
    "from compas_vol.primitives import VolSphere\n",
    "from compas_vol.combinations import Intersection"
   ]
  },
  {
   "cell_type": "code",
   "execution_count": 2,
   "id": "34f22a45",
   "metadata": {},
   "outputs": [],
   "source": [
    "import numpy as np\n",
    "import meshplot as mp\n",
    "from skimage.measure import marching_cubes\n",
    "from compas_vol.utilities import add_cube"
   ]
  },
  {
   "cell_type": "markdown",
   "id": "680d1320",
   "metadata": {},
   "source": [
    "## random points cloud generation"
   ]
  },
  {
   "cell_type": "code",
   "execution_count": 3,
   "id": "ddce6e92",
   "metadata": {},
   "outputs": [],
   "source": [
    "nbr_pts = 16\n",
    "coordinates = np.random.uniform(-30, 30, (nbr_pts,3))\n",
    "pts = [Point(px,py,pz) for (px,py,pz) in coordinates]"
   ]
  },
  {
   "cell_type": "markdown",
   "id": "c464958b",
   "metadata": {},
   "source": [
    "## create volumetric object (CSG tree)"
   ]
  },
  {
   "cell_type": "code",
   "execution_count": 4,
   "id": "03cc8b27",
   "metadata": {},
   "outputs": [],
   "source": [
    "s = Sphere(Point(0,0,0), 25)\n",
    "vs = VolSphere (s)\n",
    "v = Voronoi(pts, thickness=2.0)\n",
    "u = Intersection(vs, v)"
   ]
  },
  {
   "cell_type": "markdown",
   "id": "081d1df0",
   "metadata": {},
   "source": [
    "## workspace (dense grid)"
   ]
  },
  {
   "cell_type": "code",
   "execution_count": 5,
   "id": "08161109",
   "metadata": {},
   "outputs": [],
   "source": [
    "#workspace initialization\n",
    "# lower and upper bounds\n",
    "lbx, ubx = -30.0, 30.0\n",
    "lby, uby = -30.0, 30.0\n",
    "lbz, ubz = -30.0, 30.0\n",
    "# resolution(s)\n",
    "nx, ny, nz = 100, 100, 100\n",
    "x, y, z = np.ogrid[lbx:ubx:nx*1j, lby:uby:ny*1j, lbz:ubz:nz*1j]\n",
    "#voxel dimensions\n",
    "gx = (ubx-lbx)/nx\n",
    "gy = (uby-lby)/ny\n",
    "gz = (ubz-lbz)/nz"
   ]
  },
  {
   "cell_type": "markdown",
   "id": "ca3cc7eb",
   "metadata": {},
   "source": [
    "## sample at discrete interval"
   ]
  },
  {
   "cell_type": "code",
   "execution_count": 6,
   "id": "facb5020",
   "metadata": {},
   "outputs": [],
   "source": [
    "dm = u.get_distance_numpy(x, y, z)"
   ]
  },
  {
   "cell_type": "markdown",
   "id": "9d54b463",
   "metadata": {},
   "source": [
    "## generate isosurface(marching cube)"
   ]
  },
  {
   "cell_type": "code",
   "execution_count": 9,
   "id": "175c6336",
   "metadata": {},
   "outputs": [],
   "source": [
    "v, f, n, l = marching_cubes(dm, 0, spacing=(gx, gy, gz))\n",
    "v += [lbx,lby,lbz]"
   ]
  },
  {
   "cell_type": "markdown",
   "id": "f4f97e6a",
   "metadata": {},
   "source": [
    "## display mesh"
   ]
  },
  {
   "cell_type": "code",
   "execution_count": 10,
   "id": "ce816ab8",
   "metadata": {},
   "outputs": [
    {
     "name": "stdout",
     "output_type": "stream",
     "text": [
      "use fc slider for cutting plane\n"
     ]
    },
    {
     "data": {
      "application/vnd.jupyter.widget-view+json": {
       "model_id": "335afd41b7aa4a74b221912a57a870aa",
       "version_major": 2,
       "version_minor": 0
      },
      "text/plain": [
       "Renderer(camera=PerspectiveCamera(children=(DirectionalLight(color='white', intensity=0.6, position=(-0.300001…"
      ]
     },
     "metadata": {},
     "output_type": "display_data"
    },
    {
     "data": {
      "application/vnd.jupyter.widget-view+json": {
       "model_id": "faaaf165bcd149629656879c35a781b6",
       "version_major": 2,
       "version_minor": 0
      },
      "text/plain": [
       "interactive(children=(IntSlider(value=120000, description='fc', max=120000), Output()), _dom_classes=('widget-…"
      ]
     },
     "metadata": {},
     "output_type": "display_data"
    }
   ],
   "source": [
    "print('use fc slider for cutting plane')\n",
    "p = mp.plot(v, f, c=np.array([0,0.57,0.82]), shading={\"flat\":True, \"roughness\":0.4, \"metalness\":0.01, \"reflectivity\":1.0})\n",
    "vs,ve = add_cube(lbx,ubx,lby,uby,lbz,ubz)\n",
    "p.add_lines(np.array(vs), np.array(ve))\n",
    "\n",
    "@mp.interact(fc=(0,120000))\n",
    "def facefilter(fc=120000):\n",
    "    p.update_object(faces=f[:fc])"
   ]
  }
 ],
 "metadata": {
  "kernelspec": {
   "display_name": "Python 3 (ipykernel)",
   "language": "python",
   "name": "python3"
  },
  "language_info": {
   "codemirror_mode": {
    "name": "ipython",
    "version": 3
   },
   "file_extension": ".py",
   "mimetype": "text/x-python",
   "name": "python",
   "nbconvert_exporter": "python",
   "pygments_lexer": "ipython3",
   "version": "3.9.7"
  }
 },
 "nbformat": 4,
 "nbformat_minor": 5
}
