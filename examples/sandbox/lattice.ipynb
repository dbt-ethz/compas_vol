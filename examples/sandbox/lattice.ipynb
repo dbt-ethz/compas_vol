{
 "cells": [
  {
   "cell_type": "markdown",
   "id": "7f053f52",
   "metadata": {},
   "source": [
    "## import librairies"
   ]
  },
  {
   "cell_type": "code",
   "execution_count": 1,
   "id": "5bbbfa54",
   "metadata": {},
   "outputs": [],
   "source": [
    "import numpy as np\n",
    "import meshplot as mp\n",
    "from skimage.measure import marching_cubes"
   ]
  },
  {
   "cell_type": "code",
   "execution_count": 84,
   "id": "c99ddaaa",
   "metadata": {},
   "outputs": [],
   "source": [
    "from compas.geometry import Point, Frame, Box\n",
    "from compas_vol.microstructures import Lattice\n",
    "from compas_vol.primitives import VolBox\n",
    "from compas_vol.combinations import Intersection"
   ]
  },
  {
   "cell_type": "markdown",
   "id": "9c44a6e5",
   "metadata": {},
   "source": [
    "## workspace (dense grid)"
   ]
  },
  {
   "cell_type": "code",
   "execution_count": 3,
   "id": "6445da33",
   "metadata": {},
   "outputs": [],
   "source": [
    "#workspace initialization\n",
    "x, y, z = np.ogrid[-14:14:112j, -12:12:96j, -10:10:80j]\n",
    "#voxel dimensions\n",
    "gx = 28/112\n",
    "gy = 24/96\n",
    "gz = 20/80"
   ]
  },
  {
   "cell_type": "markdown",
   "id": "63dbea5c",
   "metadata": {},
   "source": [
    "## create volumetric object (CSG tree)"
   ]
  },
  {
   "cell_type": "code",
   "execution_count": 74,
   "id": "42235e25",
   "metadata": {},
   "outputs": [],
   "source": [
    "lat = Lattice(7, 5.5, 0.75, frame=Frame((1, 0, 0), (1, 0.2, 0.1), (-0.3, 1, 0.2)))"
   ]
  },
  {
   "cell_type": "code",
   "execution_count": 97,
   "id": "e17f80e5",
   "metadata": {},
   "outputs": [],
   "source": [
    "vb1 = VolBox(Box(Frame(Point(0, 0, 0), [1, 0, 0], [0, 1, 0]), 26, 22, 18))\n",
    "i = Intersection(vb1, lat)"
   ]
  },
  {
   "cell_type": "code",
   "execution_count": 92,
   "id": "b325fea2",
   "metadata": {},
   "outputs": [],
   "source": [
    "vb2 = VolBox(Box(Frame(Point(0, 0, 0), [1, 0, 0], [0, 1, 0]), 27.5, 2, 18))\n",
    "vb2 = VolBox(Box(Frame(Point(0, 0, 0), [1, 0, 0], [0, 1, 0]), 26, 22, 18))"
   ]
  },
  {
   "cell_type": "markdown",
   "id": "ae42c1d1",
   "metadata": {},
   "source": [
    "## sample at discrete interval"
   ]
  },
  {
   "cell_type": "code",
   "execution_count": 93,
   "id": "deaa76d6",
   "metadata": {},
   "outputs": [],
   "source": [
    "m = i.get_distance_numpy(x, y, z)"
   ]
  },
  {
   "cell_type": "markdown",
   "id": "d2c48a59",
   "metadata": {},
   "source": [
    "## generate isosurface (marching cube)"
   ]
  },
  {
   "cell_type": "code",
   "execution_count": 94,
   "id": "27867cd0",
   "metadata": {},
   "outputs": [],
   "source": [
    "v, f, n, l = marching_cubes(m, 0, spacing=(gx, gy, gz))"
   ]
  },
  {
   "cell_type": "markdown",
   "id": "1066a238",
   "metadata": {},
   "source": [
    "## display mesh"
   ]
  },
  {
   "cell_type": "code",
   "execution_count": 95,
   "id": "18fc5b6f",
   "metadata": {},
   "outputs": [
    {
     "data": {
      "application/vnd.jupyter.widget-view+json": {
       "model_id": "171ba8d2bce9431eb0ced255537a7138",
       "version_major": 2,
       "version_minor": 0
      },
      "text/plain": [
       "Renderer(camera=PerspectiveCamera(children=(DirectionalLight(color='white', intensity=0.6, position=(13.874999…"
      ]
     },
     "metadata": {},
     "output_type": "display_data"
    },
    {
     "data": {
      "text/plain": [
       "<meshplot.Viewer.Viewer at 0x1a585a20a60>"
      ]
     },
     "execution_count": 95,
     "metadata": {},
     "output_type": "execute_result"
    }
   ],
   "source": [
    "mp.plot(v, f, c=np.array([0, 0.57, 1.0]), shading={\"flat\":False, \"roughness\":0.4, \"metalness\":0.01, \"reflectivity\":1.0})"
   ]
  },
  {
   "cell_type": "code",
   "execution_count": null,
   "id": "6c74b2b4",
   "metadata": {},
   "outputs": [],
   "source": []
  }
 ],
 "metadata": {
  "kernelspec": {
   "display_name": "Python 3 (ipykernel)",
   "language": "python",
   "name": "python3"
  },
  "language_info": {
   "codemirror_mode": {
    "name": "ipython",
    "version": 3
   },
   "file_extension": ".py",
   "mimetype": "text/x-python",
   "name": "python",
   "nbconvert_exporter": "python",
   "pygments_lexer": "ipython3",
   "version": "3.9.6"
  }
 },
 "nbformat": 4,
 "nbformat_minor": 5
}
