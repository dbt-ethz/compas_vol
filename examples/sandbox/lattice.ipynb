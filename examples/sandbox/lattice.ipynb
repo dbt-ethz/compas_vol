{
 "cells": [
  {
   "cell_type": "markdown",
   "id": "886a5c99",
   "metadata": {},
   "source": [
    "## import librairies"
   ]
  },
  {
   "cell_type": "code",
   "execution_count": 1,
   "id": "1e3a9595",
   "metadata": {},
   "outputs": [],
   "source": [
    "import numpy as np\n",
    "import meshplot as mp\n",
    "from skimage.measure import marching_cubes"
   ]
  },
  {
   "cell_type": "code",
   "execution_count": 2,
   "id": "54a2cf01",
   "metadata": {},
   "outputs": [],
   "source": [
    "from compas.geometry import Point, Frame, Box\n",
    "from compas_vol.microstructures import Lattice\n",
    "from compas_vol.primitives import VolBox\n",
    "from compas_vol.combinations import Intersection, Subtraction, Union"
   ]
  },
  {
   "cell_type": "markdown",
   "id": "eed91b39",
   "metadata": {},
   "source": [
    "## workspace (dense grid)"
   ]
  },
  {
   "cell_type": "code",
   "execution_count": 3,
   "id": "e17833e9",
   "metadata": {},
   "outputs": [],
   "source": [
    "#workspace initialization\n",
    "x, y, z = np.ogrid[-14:14:112j, -12:12:96j, -10:10:80j]\n",
    "#voxel dimensions\n",
    "gx = 28/112\n",
    "gy = 24/96\n",
    "gz = 20/80"
   ]
  },
  {
   "cell_type": "markdown",
   "id": "76c457fd",
   "metadata": {},
   "source": [
    "## create volumetric object (CSG tree)"
   ]
  },
  {
   "cell_type": "code",
   "execution_count": 4,
   "id": "f841ecad",
   "metadata": {},
   "outputs": [],
   "source": [
    "lat = Lattice(7, 5.5, 0.75, frame=Frame((1, 0, 0), (1, 0.2, 0.1), (-0.3, 1, 0.2)))"
   ]
  },
  {
   "cell_type": "code",
   "execution_count": 5,
   "id": "fdda7b9a",
   "metadata": {},
   "outputs": [],
   "source": [
    "vb1 = VolBox(Box(Frame(Point(0, 0, 0), [1, 0, 0], [0, 1, 0]), 26, 22, 18))\n",
    "vb2 = VolBox(Box(Frame(Point(0, 0, 0), [1, 0, 0], [0, 1, 0]), 27.5, 23.5, 19.5))\n",
    "vb3 = VolBox(Box(Frame(Point(0, 0, 0), [1, 0, 0], [0, 1, 0]), 26, 22, 20))"
   ]
  },
  {
   "cell_type": "code",
   "execution_count": 6,
   "id": "9548432c",
   "metadata": {},
   "outputs": [],
   "source": [
    "i = Intersection(vb1, lat)\n",
    "s = Subtraction(vb2, vb3)\n",
    "u = Union(i, s)"
   ]
  },
  {
   "cell_type": "markdown",
   "id": "8a275600",
   "metadata": {},
   "source": [
    "## sample at discrete interval"
   ]
  },
  {
   "cell_type": "code",
   "execution_count": 7,
   "id": "332a224f",
   "metadata": {},
   "outputs": [],
   "source": [
    "m = u.get_distance_numpy(x, y, z)"
   ]
  },
  {
   "cell_type": "markdown",
   "id": "fb7e49a9",
   "metadata": {},
   "source": [
    "## generate isosurface (marching cube)"
   ]
  },
  {
   "cell_type": "code",
   "execution_count": 8,
   "id": "2aead987",
   "metadata": {},
   "outputs": [],
   "source": [
    "v, f, n, l = marching_cubes(m, 0, spacing=(gx, gy, gz))"
   ]
  },
  {
   "cell_type": "markdown",
   "id": "df841e97",
   "metadata": {},
   "source": [
    "## display mesh"
   ]
  },
  {
   "cell_type": "code",
   "execution_count": 9,
   "id": "ffbaad38",
   "metadata": {},
   "outputs": [
    {
     "name": "stdout",
     "output_type": "stream",
     "text": [
      "use fc slider for cutting plane\n"
     ]
    },
    {
     "data": {
      "application/vnd.jupyter.widget-view+json": {
       "model_id": "97d577a0919a4100b2ae8ebfe8c660f3",
       "version_major": 2,
       "version_minor": 0
      },
      "text/plain": [
       "Renderer(camera=PerspectiveCamera(children=(DirectionalLight(color='white', intensity=0.6, position=(13.874999…"
      ]
     },
     "metadata": {},
     "output_type": "display_data"
    },
    {
     "data": {
      "application/vnd.jupyter.widget-view+json": {
       "model_id": "355286a941c54f8392c3302ae9789f32",
       "version_major": 2,
       "version_minor": 0
      },
      "text/plain": [
       "interactive(children=(IntSlider(value=330000, description='fc', max=330000), Output()), _dom_classes=('widget-…"
      ]
     },
     "metadata": {},
     "output_type": "display_data"
    }
   ],
   "source": [
    "print('use fc slider for cutting plane')\n",
    "p = mp.plot(v, f, c=np.array([0, 0.57, 1.0]), shading={\"flat\":False, \"roughness\":0.4, \"metalness\":0.01, \"reflectivity\":1.0})\n",
    "\n",
    "@mp.interact(fc=(0,330000))\n",
    "def facefilter(fc=330000):\n",
    "    p.update_object(faces=f[:fc])"
   ]
  }
 ],
 "metadata": {
  "kernelspec": {
   "display_name": "Python 3 (ipykernel)",
   "language": "python",
   "name": "python3"
  },
  "language_info": {
   "codemirror_mode": {
    "name": "ipython",
    "version": 3
   },
   "file_extension": ".py",
   "mimetype": "text/x-python",
   "name": "python",
   "nbconvert_exporter": "python",
   "pygments_lexer": "ipython3",
   "version": "3.9.6"
  }
 },
 "nbformat": 4,
 "nbformat_minor": 5
}
