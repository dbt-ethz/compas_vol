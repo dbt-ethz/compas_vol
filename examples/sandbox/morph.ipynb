{
 "cells": [
  {
   "cell_type": "markdown",
   "id": "0a378732",
   "metadata": {},
   "source": [
    "## import libraries"
   ]
  },
  {
   "cell_type": "code",
   "execution_count": 1,
   "id": "e27e1685",
   "metadata": {},
   "outputs": [],
   "source": [
    "import numpy as np\n",
    "import meshplot as mp\n",
    "from skimage.measure import marching_cubes"
   ]
  },
  {
   "cell_type": "code",
   "execution_count": 2,
   "id": "e0bb366e",
   "metadata": {},
   "outputs": [],
   "source": [
    "from compas_vol.combinations import Morph\n",
    "from compas_vol.primitives import VolSphere, VolBox\n",
    "from compas.geometry import Box, Frame, Point, Sphere"
   ]
  },
  {
   "cell_type": "markdown",
   "id": "f0d22536",
   "metadata": {},
   "source": [
    "## workspace (dense grid)"
   ]
  },
  {
   "cell_type": "code",
   "execution_count": 3,
   "id": "e7931e2b",
   "metadata": {},
   "outputs": [],
   "source": [
    "#workspace initialization\n",
    "x, y, z = np.ogrid[-30:30:100j, -30:30:100j, -30:30:100j]\n",
    "#voxel dimensions\n",
    "gx = 60/100\n",
    "gy = 60/100\n",
    "gz = 60/100"
   ]
  },
  {
   "cell_type": "markdown",
   "id": "8ccd4b63",
   "metadata": {},
   "source": [
    "## create volumetric object (CSG tree)"
   ]
  },
  {
   "cell_type": "code",
   "execution_count": 4,
   "id": "35bd9aef",
   "metadata": {},
   "outputs": [],
   "source": [
    "s = Sphere(Point(5, 6, 0), 9)\n",
    "b = Box(Frame.worldXY(), 20, 15, 10)\n",
    "vs = VolSphere(s)\n",
    "vb = VolBox(b, 2.5)\n",
    "u = Morph(vs, vb, 0.5)"
   ]
  },
  {
   "cell_type": "markdown",
   "id": "1a28fb47",
   "metadata": {},
   "source": [
    "## sample at discrete interval (marching cube)"
   ]
  },
  {
   "cell_type": "code",
   "execution_count": 5,
   "id": "361fbefd",
   "metadata": {},
   "outputs": [],
   "source": [
    "dm = u.get_distance_numpy(x, y, z)"
   ]
  },
  {
   "cell_type": "markdown",
   "id": "458c73cd",
   "metadata": {},
   "source": [
    "## generate isosurface (marching cube)"
   ]
  },
  {
   "cell_type": "code",
   "execution_count": 6,
   "id": "6534d9a5",
   "metadata": {},
   "outputs": [],
   "source": [
    "v, f, n, l = marching_cubes(dm, 0, spacing=(gx, gy, gz))"
   ]
  },
  {
   "cell_type": "markdown",
   "id": "259f92f9",
   "metadata": {},
   "source": [
    "## display mesh"
   ]
  },
  {
   "cell_type": "code",
   "execution_count": 7,
   "id": "63cf1e4c",
   "metadata": {},
   "outputs": [
    {
     "data": {
      "application/vnd.jupyter.widget-view+json": {
       "model_id": "5f3a01cef38a4357a25ef266250fb4cf",
       "version_major": 2,
       "version_minor": 0
      },
      "text/plain": [
       "Renderer(camera=PerspectiveCamera(children=(DirectionalLight(color='white', intensity=0.6, position=(32.206734…"
      ]
     },
     "metadata": {},
     "output_type": "display_data"
    },
    {
     "data": {
      "text/plain": [
       "<meshplot.Viewer.Viewer at 0x21703fa9160>"
      ]
     },
     "execution_count": 7,
     "metadata": {},
     "output_type": "execute_result"
    }
   ],
   "source": [
    "mp.plot(v, f, c=np.array([0,0.57,0.82]), shading={\"flat\":False, \"roughness\":0.4, \"metalness\":0.01, \"reflectivity\":1.0})"
   ]
  }
 ],
 "metadata": {
  "kernelspec": {
   "display_name": "Python 3 (ipykernel)",
   "language": "python",
   "name": "python3"
  },
  "language_info": {
   "codemirror_mode": {
    "name": "ipython",
    "version": 3
   },
   "file_extension": ".py",
   "mimetype": "text/x-python",
   "name": "python",
   "nbconvert_exporter": "python",
   "pygments_lexer": "ipython3",
   "version": "3.9.6"
  }
 },
 "nbformat": 4,
 "nbformat_minor": 5
}
