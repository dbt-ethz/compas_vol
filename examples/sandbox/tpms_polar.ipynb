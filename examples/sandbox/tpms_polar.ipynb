{
 "cells": [
  {
   "cell_type": "markdown",
   "id": "b141ff0b",
   "metadata": {},
   "source": [
    "## import librairies"
   ]
  },
  {
   "cell_type": "code",
   "execution_count": 2,
   "id": "6a924ee0",
   "metadata": {},
   "outputs": [],
   "source": [
    "from compas_vol.microstructures import TPMSPolar\n",
    "from compas.geometry import Point, Plane, Frame, Circle, Cylinder, Box\n",
    "from compas_vol.primitives import VolBox, VolCylinder\n",
    "from compas_vol.combinations import Intersection, SmoothSubtraction\n",
    "from compas_vol.modifications import Shell"
   ]
  },
  {
   "cell_type": "code",
   "execution_count": 1,
   "id": "7ea201bf",
   "metadata": {},
   "outputs": [],
   "source": [
    "import numpy as np\n",
    "import meshplot as mp\n",
    "from skimage.measure import marching_cubes\n",
    "from compas_vol.utilities import add_cube"
   ]
  },
  {
   "cell_type": "markdown",
   "id": "e4599fee",
   "metadata": {},
   "source": [
    "## create volumetric object (CSG tree)"
   ]
  },
  {
   "cell_type": "code",
   "execution_count": 4,
   "id": "b19739d5",
   "metadata": {},
   "outputs": [],
   "source": [
    "tpmsPol = TPMSPolar(0, 1.2, .0, 6)"
   ]
  },
  {
   "cell_type": "code",
   "execution_count": 5,
   "id": "61ac6b70",
   "metadata": {},
   "outputs": [],
   "source": [
    "vb = VolBox(Box(Frame(Point(0,0,0), [1,0,0], [0,1,0]), 27.5, 23.5, 19.5), 3.)\n",
    "c = VolCylinder(Cylinder(Circle(Plane([0,0,0], [0,0,1]), 1.0), 23))"
   ]
  },
  {
   "cell_type": "code",
   "execution_count": 6,
   "id": "dfeb30d2",
   "metadata": {},
   "outputs": [],
   "source": [
    "ss = SmoothSubtraction(vb, c, 2.0)\n",
    "i = Shell(Intersection(tpmsPol, ss), 0.75, 1.0)"
   ]
  },
  {
   "cell_type": "markdown",
   "id": "919b0e2d",
   "metadata": {},
   "source": [
    "## workspace (dense grid)"
   ]
  },
  {
   "cell_type": "code",
   "execution_count": 3,
   "id": "78f06c9a",
   "metadata": {},
   "outputs": [],
   "source": [
    "#workspace initialization\n",
    "# lower and upper bounds\n",
    "lbx, ubx = -14.0, 14.0\n",
    "lby, uby = -12.0, 12.0\n",
    "lbz, ubz = -10.0, 10.0\n",
    "# resolution(s)\n",
    "nx, ny, nz = 168, 144, 120\n",
    "x, y, z = np.ogrid[lbx:ubx:nx*1j, lby:uby:ny*1j, lbz:ubz:nz*1j]\n",
    "#voxel dimensions\n",
    "gx = (ubx-lbx)/nx\n",
    "gy = (uby-lby)/ny\n",
    "gz = (ubz-lbz)/nz"
   ]
  },
  {
   "cell_type": "markdown",
   "id": "39534cb8",
   "metadata": {},
   "source": [
    "## sample at discrete interval"
   ]
  },
  {
   "cell_type": "code",
   "execution_count": 7,
   "id": "019e5322",
   "metadata": {},
   "outputs": [],
   "source": [
    "dm = i.get_distance_numpy(x, y, z)"
   ]
  },
  {
   "cell_type": "markdown",
   "id": "f8c3b67f",
   "metadata": {},
   "source": [
    "## generate isosurface (marching cube)"
   ]
  },
  {
   "cell_type": "code",
   "execution_count": 8,
   "id": "e9cb92ee",
   "metadata": {},
   "outputs": [],
   "source": [
    "v, f, n, l = marching_cubes(dm, 0, spacing=(gx, gy, gz))\n",
    "v += [lbx,lby,lbz]"
   ]
  },
  {
   "cell_type": "markdown",
   "id": "102afccf",
   "metadata": {},
   "source": [
    "## display mesh"
   ]
  },
  {
   "cell_type": "code",
   "execution_count": 9,
   "id": "b16daf2d",
   "metadata": {},
   "outputs": [
    {
     "name": "stdout",
     "output_type": "stream",
     "text": [
      "use fc slider for cutting plane\n"
     ]
    },
    {
     "data": {
      "application/vnd.jupyter.widget-view+json": {
       "model_id": "d284f212980249af80378b01393bbb31",
       "version_major": 2,
       "version_minor": 0
      },
      "text/plain": [
       "Renderer(camera=PerspectiveCamera(children=(DirectionalLight(color='white', intensity=0.6, position=(13.916666…"
      ]
     },
     "metadata": {},
     "output_type": "display_data"
    },
    {
     "data": {
      "application/vnd.jupyter.widget-view+json": {
       "model_id": "539e28ddf37f453a8c4061e698374fb4",
       "version_major": 2,
       "version_minor": 0
      },
      "text/plain": [
       "interactive(children=(IntSlider(value=1260000, description='fc', max=1260000), Output()), _dom_classes=('widge…"
      ]
     },
     "metadata": {},
     "output_type": "display_data"
    }
   ],
   "source": [
    "print('use fc slider for cutting plane')\n",
    "p = mp.plot(v, f, c=np.array([0,0.57,0.82]), shading={\"flat\":False, \"roughness\":0.4, \"metalness\":0.01, \"reflectivity\":1.0})\n",
    "vs,ve = add_cube(lbx,ubx,lby,uby,lbz,ubz)\n",
    "p.add_lines(np.array(vs), np.array(ve))\n",
    "\n",
    "@mp.interact(fc=(0,1260000))\n",
    "def facefilter(fc=1260000):\n",
    "    p.update_object(faces=f[:fc])"
   ]
  }
 ],
 "metadata": {
  "kernelspec": {
   "display_name": "Python 3 (ipykernel)",
   "language": "python",
   "name": "python3"
  },
  "language_info": {
   "codemirror_mode": {
    "name": "ipython",
    "version": 3
   },
   "file_extension": ".py",
   "mimetype": "text/x-python",
   "name": "python",
   "nbconvert_exporter": "python",
   "pygments_lexer": "ipython3",
   "version": "3.9.6"
  }
 },
 "nbformat": 4,
 "nbformat_minor": 5
}
