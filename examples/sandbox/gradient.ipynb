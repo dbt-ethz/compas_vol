{
 "cells": [
  {
   "cell_type": "markdown",
   "id": "f6c47672",
   "metadata": {},
   "source": [
    "## import librairies"
   ]
  },
  {
   "cell_type": "code",
   "execution_count": 1,
   "id": "c711ea5d",
   "metadata": {},
   "outputs": [],
   "source": [
    "import numpy as np\n",
    "import meshplot as mp\n",
    "from skimage.measure import marching_cubes"
   ]
  },
  {
   "cell_type": "code",
   "execution_count": 5,
   "id": "ae0abc59",
   "metadata": {},
   "outputs": [],
   "source": [
    "from compas_vol.analysis import Gradient\n",
    "from compas.geometry import Point, Sphere\n",
    "from compas_vol.primitives import VolSphere"
   ]
  },
  {
   "cell_type": "markdown",
   "id": "8fb23903",
   "metadata": {},
   "source": [
    "## workspace (dense grid)"
   ]
  },
  {
   "cell_type": "code",
   "execution_count": 161,
   "id": "777adc88",
   "metadata": {},
   "outputs": [],
   "source": [
    "x, y, z = np.ogrid[0:60:20j, 0:60:20j, 0:60:20j]\n",
    "gx = 60/20\n",
    "gy = 60/20\n",
    "gz = 60/20"
   ]
  },
  {
   "cell_type": "markdown",
   "id": "7f7b24fa",
   "metadata": {},
   "source": [
    "## create volumetric object"
   ]
  },
  {
   "cell_type": "code",
   "execution_count": 180,
   "id": "9ffe4c2f",
   "metadata": {},
   "outputs": [],
   "source": [
    "vs = VolSphere(Sphere(Point(30, 30, 30), 25.))"
   ]
  },
  {
   "cell_type": "markdown",
   "id": "d9271476",
   "metadata": {},
   "source": [
    "## analyse gradient"
   ]
  },
  {
   "cell_type": "code",
   "execution_count": 181,
   "id": "5d6be0cb",
   "metadata": {},
   "outputs": [],
   "source": [
    "g = Gradient(vs)"
   ]
  },
  {
   "cell_type": "markdown",
   "id": "d7a965e1",
   "metadata": {},
   "source": [
    "## sample at discrete interval"
   ]
  },
  {
   "cell_type": "code",
   "execution_count": 182,
   "id": "f3289121",
   "metadata": {},
   "outputs": [],
   "source": [
    "dm = vs.get_distance_numpy(x, y, z)\n",
    "gm = g.get_gradient_numpy(x, y, z)"
   ]
  },
  {
   "cell_type": "code",
   "execution_count": 183,
   "id": "ae4dd70f",
   "metadata": {},
   "outputs": [
    {
     "name": "stdout",
     "output_type": "stream",
     "text": [
      "(20, 20, 20)\n",
      "(20, 20, 20, 3)\n"
     ]
    }
   ],
   "source": [
    "print(dm.shape)\n",
    "print(gm.shape)"
   ]
  },
  {
   "cell_type": "markdown",
   "id": "3ae38e3b",
   "metadata": {},
   "source": [
    "## generate isosurface (marching cube)"
   ]
  },
  {
   "cell_type": "code",
   "execution_count": 184,
   "id": "8812de34",
   "metadata": {},
   "outputs": [],
   "source": [
    "v, f, n, l = marching_cubes(dm, 0, spacing=(gx,gy,gz))"
   ]
  },
  {
   "cell_type": "markdown",
   "id": "fdfdc1c7",
   "metadata": {},
   "source": [
    "## display mesh"
   ]
  },
  {
   "cell_type": "code",
   "execution_count": 185,
   "id": "3db47b73",
   "metadata": {},
   "outputs": [],
   "source": [
    "\n",
    "gm2d = np.reshape(np.swapaxes(gm,0,1), (x.shape[0]*y.shape[1]*z.shape[2], 3))\n",
    "pts = np.reshape(np.stack(np.meshgrid(x,y,z), axis=3), (x.shape[0]*y.shape[1]*z.shape[2], 3))"
   ]
  },
  {
   "cell_type": "code",
   "execution_count": 188,
   "id": "87263a8b",
   "metadata": {},
   "outputs": [],
   "source": [
    "# create factor based on distance matrix\n",
    "f = np.reshape(dm, (x.shape[0]*y.shape[1]*z.shape[2]))[..., np.newaxis]\n",
    "f = np.interp(f, (f.min(), f.max()), (-6, 6))"
   ]
  },
  {
   "cell_type": "code",
   "execution_count": 190,
   "id": "6a2bc91f",
   "metadata": {},
   "outputs": [
    {
     "data": {
      "application/vnd.jupyter.widget-view+json": {
       "model_id": "56be09d3dadb4c5981912ba378d8e190",
       "version_major": 2,
       "version_minor": 0
      },
      "text/plain": [
       "Renderer(camera=PerspectiveCamera(children=(DirectionalLight(color='white', intensity=0.6, position=(0.0, 0.0,…"
      ]
     },
     "metadata": {},
     "output_type": "display_data"
    },
    {
     "data": {
      "text/plain": [
       "1"
      ]
     },
     "execution_count": 190,
     "metadata": {},
     "output_type": "execute_result"
    }
   ],
   "source": [
    "p = mp.plot(np.zeros(1))\n",
    "p.add_lines(pts, pts-gm2d*f, shading={\"line_color\": \"blue\"})"
   ]
  }
 ],
 "metadata": {
  "kernelspec": {
   "display_name": "Python 3 (ipykernel)",
   "language": "python",
   "name": "python3"
  },
  "language_info": {
   "codemirror_mode": {
    "name": "ipython",
    "version": 3
   },
   "file_extension": ".py",
   "mimetype": "text/x-python",
   "name": "python",
   "nbconvert_exporter": "python",
   "pygments_lexer": "ipython3",
   "version": "3.9.6"
  }
 },
 "nbformat": 4,
 "nbformat_minor": 5
}
