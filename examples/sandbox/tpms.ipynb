{
 "cells": [
  {
   "cell_type": "markdown",
   "id": "e32889c4",
   "metadata": {},
   "source": [
    "## import libraries"
   ]
  },
  {
   "cell_type": "code",
   "execution_count": 1,
   "id": "f29b7f78",
   "metadata": {},
   "outputs": [],
   "source": [
    "import numpy as np\n",
    "import meshplot as mp\n",
    "from skimage.measure import marching_cubes"
   ]
  },
  {
   "cell_type": "code",
   "execution_count": 27,
   "id": "528a796c",
   "metadata": {},
   "outputs": [],
   "source": [
    "from compas_vol.microstructures import TPMS\n",
    "from compas.geometry import Point, Frame, Box\n",
    "from compas_vol.primitives import VolBox\n",
    "from compas_vol.combinations import Intersection, Subtraction\n",
    "from compas_vol.modifications import Shell"
   ]
  },
  {
   "cell_type": "markdown",
   "id": "b4fec751",
   "metadata": {},
   "source": [
    "## workspace (dense grid)"
   ]
  },
  {
   "cell_type": "code",
   "execution_count": 35,
   "id": "1ba6995c",
   "metadata": {},
   "outputs": [],
   "source": [
    "#workspace initialization\n",
    "x, y, z = np.ogrid[-14:14:168j, -12:12:144j, -10:10:120j]\n",
    "#voxel dimensions\n",
    "gx = 28/168\n",
    "gy = 24/144\n",
    "gz = 20/120"
   ]
  },
  {
   "cell_type": "markdown",
   "id": "1ef8026a",
   "metadata": {},
   "source": [
    "## create volumetric object (CSG tree)"
   ]
  },
  {
   "cell_type": "code",
   "execution_count": 85,
   "id": "446853bd",
   "metadata": {},
   "outputs": [],
   "source": [
    "tpms = TPMS(tpmstype='schwartzP', wavelength=4.5)"
   ]
  },
  {
   "cell_type": "code",
   "execution_count": 86,
   "id": "59c5bbe6",
   "metadata": {},
   "outputs": [],
   "source": [
    "vb = VolBox(Box(Frame(Point(0, 0, 0), [1, 0, 0], [0, 1, 0]), 26, 22, 18))"
   ]
  },
  {
   "cell_type": "code",
   "execution_count": 87,
   "id": "2bcbce3e",
   "metadata": {},
   "outputs": [],
   "source": [
    "s = Shell(tpms, 0.5, 1.0)\n",
    "i = Intersection(s, vb)"
   ]
  },
  {
   "cell_type": "markdown",
   "id": "1f15f9e5",
   "metadata": {},
   "source": [
    "## sample at discrete interval"
   ]
  },
  {
   "cell_type": "code",
   "execution_count": 88,
   "id": "a14083ac",
   "metadata": {},
   "outputs": [],
   "source": [
    "dm = i.get_distance_numpy(x, y, z)"
   ]
  },
  {
   "cell_type": "markdown",
   "id": "9c958f72",
   "metadata": {},
   "source": [
    "## generate isosurface (marching cube)"
   ]
  },
  {
   "cell_type": "code",
   "execution_count": 89,
   "id": "49740869",
   "metadata": {},
   "outputs": [],
   "source": [
    "v, f, n, l = marching_cubes(dm, 0, spacing=(gx, gy, gz))"
   ]
  },
  {
   "cell_type": "markdown",
   "id": "5dc7ced0",
   "metadata": {},
   "source": [
    "## display mesh"
   ]
  },
  {
   "cell_type": "code",
   "execution_count": 90,
   "id": "938ce4ed",
   "metadata": {},
   "outputs": [
    {
     "data": {
      "application/vnd.jupyter.widget-view+json": {
       "model_id": "b77541b691a54c22ba3373f9539b6cbb",
       "version_major": 2,
       "version_minor": 0
      },
      "text/plain": [
       "Renderer(camera=PerspectiveCamera(children=(DirectionalLight(color='white', intensity=0.6, position=(13.916667…"
      ]
     },
     "metadata": {},
     "output_type": "display_data"
    },
    {
     "data": {
      "text/plain": [
       "<meshplot.Viewer.Viewer at 0x2482e9862e0>"
      ]
     },
     "execution_count": 90,
     "metadata": {},
     "output_type": "execute_result"
    }
   ],
   "source": [
    "mp.plot(v, f, c=np.array([0,0.57,0.82]), shading={\"flat\":False, \"roughness\":0.4, \"metalness\":0.01, \"reflectivity\":1.0})"
   ]
  }
 ],
 "metadata": {
  "kernelspec": {
   "display_name": "Python 3 (ipykernel)",
   "language": "python",
   "name": "python3"
  },
  "language_info": {
   "codemirror_mode": {
    "name": "ipython",
    "version": 3
   },
   "file_extension": ".py",
   "mimetype": "text/x-python",
   "name": "python",
   "nbconvert_exporter": "python",
   "pygments_lexer": "ipython3",
   "version": "3.9.6"
  }
 },
 "nbformat": 4,
 "nbformat_minor": 5
}
