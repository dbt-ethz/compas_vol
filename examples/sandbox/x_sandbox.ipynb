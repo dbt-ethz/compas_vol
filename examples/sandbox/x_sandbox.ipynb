{
 "metadata": {
  "language_info": {
   "codemirror_mode": {
    "name": "ipython",
    "version": 3
   },
   "file_extension": ".py",
   "mimetype": "text/x-python",
   "name": "python",
   "nbconvert_exporter": "python",
   "pygments_lexer": "ipython3",
   "version": "3.9.4"
  },
  "orig_nbformat": 4,
  "kernelspec": {
   "name": "python3",
   "display_name": "Python 3.9.4 64-bit ('compasdev': conda)"
  },
  "interpreter": {
   "hash": "eb0a2dc5b91f8bb9e13b3f251ec2c617588d8909409abb0e4c3c5c32a7e10b66"
  }
 },
 "nbformat": 4,
 "nbformat_minor": 2,
 "cells": [
  {
   "cell_type": "code",
   "execution_count": 5,
   "metadata": {},
   "outputs": [],
   "source": [
    "import numpy as np\n",
    "import ipyvolume as ipv\n",
    "from compas.geometry import Frame\n",
    "from compas_vol.primitives import PlatonicSolid"
   ]
  },
  {
   "cell_type": "code",
   "execution_count": 9,
   "metadata": {},
   "outputs": [],
   "source": [
    "p = PlatonicSolid(10.0, 3, frame=Frame((1, 2, 3), (1, 0.3, 0.1), (-0.4, 1, 0.3)))"
   ]
  },
  {
   "cell_type": "code",
   "execution_count": 10,
   "metadata": {},
   "outputs": [],
   "source": [
    "x, y, z = np.ogrid[-30:30:60j, -30:30:60j, -30:30:60j]\n",
    "d = p.get_distance_numpy(x,y,z)"
   ]
  },
  {
   "cell_type": "code",
   "execution_count": 11,
   "metadata": {},
   "outputs": [
    {
     "output_type": "display_data",
     "data": {
      "text/plain": "VBox(children=(Figure(camera=PerspectiveCamera(fov=45.0, position=(0.0, 0.0, 2.0), projectionMatrix=(1.0, 0.0,…",
      "application/vnd.jupyter.widget-view+json": {
       "version_major": 2,
       "version_minor": 0,
       "model_id": "fbf1d5048a2b4236a92e02100eda2df9"
      }
     },
     "metadata": {}
    }
   ],
   "source": [
    "fig = ipv.figure(width=800, height=450)\n",
    "ipv.xyzlim(20)\n",
    "mesh = ipv.plot_isosurface(d, 0.0, color='white', extent=[(-30,30) for _ in range(3)])\n",
    "ipv.style.use('minimal')\n",
    "ipv.show()"
   ]
  },
  {
   "cell_type": "code",
   "execution_count": null,
   "metadata": {},
   "outputs": [],
   "source": []
  }
 ]
}