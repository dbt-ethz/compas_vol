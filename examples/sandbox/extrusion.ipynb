{
 "cells": [
  {
   "cell_type": "markdown",
   "source": [
    "## import librairies"
   ],
   "metadata": {}
  },
  {
   "cell_type": "code",
   "execution_count": 1,
   "source": [
    "import numpy as np\r\n",
    "import meshplot as mp\r\n",
    "from skimage.measure import marching_cubes"
   ],
   "outputs": [],
   "metadata": {}
  },
  {
   "cell_type": "code",
   "execution_count": 2,
   "source": [
    "from compas_vol.primitives import VolExtrusion\r\n",
    "from compas.geometry import Frame"
   ],
   "outputs": [],
   "metadata": {}
  },
  {
   "cell_type": "markdown",
   "source": [
    "## workspace (dense grid)"
   ],
   "metadata": {}
  },
  {
   "cell_type": "code",
   "execution_count": 3,
   "source": [
    "#workspace initialization\r\n",
    "x, y, z = np.ogrid[-30:30:100j, -15:15:100j, -15:15:100j]\r\n",
    "#voxel dimensions\r\n",
    "gx = 60/100\r\n",
    "gy = 30/100\r\n",
    "gz = 30/100"
   ],
   "outputs": [],
   "metadata": {}
  },
  {
   "cell_type": "markdown",
   "source": [
    "## create 2D polygon"
   ],
   "metadata": {}
  },
  {
   "cell_type": "code",
   "execution_count": 4,
   "source": [
    "#lines generation\r\n",
    "polyline = []\r\n",
    "a = np.pi*2/10\r\n",
    "r = 10\r\n",
    "for i in range(10):\r\n",
    "    tr = r\r\n",
    "    if i % 2:\r\n",
    "        tr = 5\r\n",
    "    xp = tr*np.cos(i*a)\r\n",
    "    yp = tr*np.sin(i*a)\r\n",
    "    polyline.append((xp, yp, 0))\r\n",
    "polyline.append(polyline[0]) "
   ],
   "outputs": [],
   "metadata": {}
  },
  {
   "cell_type": "markdown",
   "source": [
    "## create volumetric object"
   ],
   "metadata": {}
  },
  {
   "cell_type": "code",
   "execution_count": 5,
   "source": [
    "ve = VolExtrusion(polyline, height=5, frame=Frame((1, 2, 3), (1, 0.3, 0.1), (-0.4, 1, 0.3)))"
   ],
   "outputs": [],
   "metadata": {}
  },
  {
   "cell_type": "markdown",
   "source": [
    "## sample at discrete interval"
   ],
   "metadata": {}
  },
  {
   "cell_type": "code",
   "execution_count": 6,
   "source": [
    "dm = ve.get_distance_numpy(x, y, z)"
   ],
   "outputs": [],
   "metadata": {}
  },
  {
   "cell_type": "markdown",
   "source": [
    "## generate isosurface (marching cube)"
   ],
   "metadata": {}
  },
  {
   "cell_type": "code",
   "execution_count": 7,
   "source": [
    "v, f, n, l = marching_cubes(dm, 0, spacing=(gx, gy, gz))"
   ],
   "outputs": [],
   "metadata": {}
  },
  {
   "cell_type": "markdown",
   "source": [
    "## display mesh"
   ],
   "metadata": {}
  },
  {
   "cell_type": "code",
   "execution_count": 8,
   "source": [
    "mp.plot(v, f, c=np.array([0,0.57,0.82]), shading={\"flat\":True, \"roughness\":0.4, \"metalness\":0.01, \"reflectivity\":1.0})"
   ],
   "outputs": [
    {
     "output_type": "display_data",
     "data": {
      "application/vnd.jupyter.widget-view+json": {
       "model_id": "59ce50dba2984aecb42d999175da371d",
       "version_major": 2,
       "version_minor": 0
      },
      "text/plain": [
       "Renderer(camera=PerspectiveCamera(children=(DirectionalLight(color='white', intensity=0.6, position=(30.695908…"
      ]
     },
     "metadata": {}
    },
    {
     "output_type": "execute_result",
     "data": {
      "text/plain": [
       "<meshplot.Viewer.Viewer at 0x284467467f0>"
      ]
     },
     "metadata": {},
     "execution_count": 8
    }
   ],
   "metadata": {}
  }
 ],
 "metadata": {
  "kernelspec": {
   "display_name": "Python 3 (ipykernel)",
   "language": "python",
   "name": "python3"
  },
  "language_info": {
   "codemirror_mode": {
    "name": "ipython",
    "version": 3
   },
   "file_extension": ".py",
   "mimetype": "text/x-python",
   "name": "python",
   "nbconvert_exporter": "python",
   "pygments_lexer": "ipython3",
   "version": "3.9.6"
  }
 },
 "nbformat": 4,
 "nbformat_minor": 5
}