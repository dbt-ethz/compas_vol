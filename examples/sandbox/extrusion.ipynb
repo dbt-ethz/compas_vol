{
 "cells": [
  {
   "cell_type": "markdown",
   "id": "c74e9f64",
   "metadata": {},
   "source": [
    "## import librairies"
   ]
  },
  {
   "cell_type": "code",
   "execution_count": 1,
   "id": "46e6d01f",
   "metadata": {},
   "outputs": [],
   "source": [
    "import numpy as np\n",
    "import meshplot as mp\n",
    "from skimage.measure import marching_cubes"
   ]
  },
  {
   "cell_type": "code",
   "execution_count": 2,
   "id": "e75758ad",
   "metadata": {},
   "outputs": [],
   "source": [
    "from compas_vol.primitives import VolExtrusion\n",
    "from compas.geometry import Frame"
   ]
  },
  {
   "cell_type": "markdown",
   "id": "598cafa6",
   "metadata": {},
   "source": [
    "## workspace (dense grid)"
   ]
  },
  {
   "cell_type": "code",
   "execution_count": 3,
   "id": "db81f6ff",
   "metadata": {},
   "outputs": [],
   "source": [
    "#workspace initialization\n",
    "x, y, z = np.ogrid[-30:30:100j, -15:15:100j, -15:15:100j]\n",
    "#voxel dimensions\n",
    "gx = 60/100\n",
    "gy = 30/100\n",
    "gz = 30/100"
   ]
  },
  {
   "cell_type": "markdown",
   "id": "a7a86f6d",
   "metadata": {},
   "source": [
    "## create 2D polygon"
   ]
  },
  {
   "cell_type": "code",
   "execution_count": 4,
   "id": "5fe68013",
   "metadata": {},
   "outputs": [],
   "source": [
    "#lines generation\n",
    "polyline = []\n",
    "a = np.pi*2/10\n",
    "r = 10\n",
    "for i in range(10):\n",
    "    tr = r\n",
    "    if i % 2:\n",
    "        tr = 5\n",
    "    xp = tr*np.cos(i*a)\n",
    "    yp = tr*np.sin(i*a)\n",
    "    polyline.append((xp, yp, 0))\n",
    "polyline.append(polyline[0])"
   ]
  },
  {
   "cell_type": "markdown",
   "id": "286a035c",
   "metadata": {},
   "source": [
    "## create volumetric object"
   ]
  },
  {
   "cell_type": "code",
   "execution_count": 5,
   "id": "112d4778",
   "metadata": {},
   "outputs": [],
   "source": [
    "ve = VolExtrusion(polyline, height=5, frame=Frame((1, 2, 3), (1, 0.3, 0.1), (-0.4, 1, 0.3)))"
   ]
  },
  {
   "cell_type": "markdown",
   "id": "005b567f",
   "metadata": {},
   "source": [
    "## sample at discrete interval"
   ]
  },
  {
   "cell_type": "code",
   "execution_count": 6,
   "id": "6c35533b",
   "metadata": {},
   "outputs": [],
   "source": [
    "dm = ve.get_distance_numpy(x, y, z)"
   ]
  },
  {
   "cell_type": "markdown",
   "id": "707a544b",
   "metadata": {},
   "source": [
    "## generate isosurface (marching cube)"
   ]
  },
  {
   "cell_type": "code",
   "execution_count": 7,
   "id": "ec636c76",
   "metadata": {},
   "outputs": [],
   "source": [
    "v, f, n, l = marching_cubes(dm, 0, spacing=(gx, gy, gz))"
   ]
  },
  {
   "cell_type": "markdown",
   "id": "9dedfd38",
   "metadata": {},
   "source": [
    "## display mesh"
   ]
  },
  {
   "cell_type": "code",
   "execution_count": 8,
   "id": "e41eadb1",
   "metadata": {},
   "outputs": [
    {
     "data": {
      "application/vnd.jupyter.widget-view+json": {
       "model_id": "59ce50dba2984aecb42d999175da371d",
       "version_major": 2,
       "version_minor": 0
      },
      "text/plain": [
       "Renderer(camera=PerspectiveCamera(children=(DirectionalLight(color='white', intensity=0.6, position=(30.695908…"
      ]
     },
     "metadata": {},
     "output_type": "display_data"
    },
    {
     "data": {
      "text/plain": [
       "<meshplot.Viewer.Viewer at 0x284467467f0>"
      ]
     },
     "execution_count": 8,
     "metadata": {},
     "output_type": "execute_result"
    }
   ],
   "source": [
    "mp.plot(v, f, c=np.array([0,0.57,0.82]), shading={\"flat\":True, \"roughness\":0.4, \"metalness\":0.01, \"reflectivity\":1.0})"
   ]
  },
  {
   "cell_type": "code",
   "execution_count": null,
   "id": "83f9dcce",
   "metadata": {},
   "outputs": [],
   "source": []
  }
 ],
 "metadata": {
  "kernelspec": {
   "display_name": "Python 3 (ipykernel)",
   "language": "python",
   "name": "python3"
  },
  "language_info": {
   "codemirror_mode": {
    "name": "ipython",
    "version": 3
   },
   "file_extension": ".py",
   "mimetype": "text/x-python",
   "name": "python",
   "nbconvert_exporter": "python",
   "pygments_lexer": "ipython3",
   "version": "3.9.6"
  }
 },
 "nbformat": 4,
 "nbformat_minor": 5
}
