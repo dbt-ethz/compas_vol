{
 "cells": [
  {
   "cell_type": "markdown",
   "id": "eb4021e5",
   "metadata": {},
   "source": [
    "## import librairies"
   ]
  },
  {
   "cell_type": "code",
   "execution_count": 1,
   "id": "671e8fc0",
   "metadata": {},
   "outputs": [],
   "source": [
    "import numpy as np\n",
    "import meshplot as mp\n",
    "from skimage.measure import marching_cubes"
   ]
  },
  {
   "cell_type": "code",
   "execution_count": 2,
   "id": "13ec7d92",
   "metadata": {},
   "outputs": [],
   "source": [
    "from compas_vol.primitives import VolExtrusion\n",
    "from compas.geometry import Frame"
   ]
  },
  {
   "cell_type": "markdown",
   "id": "884ab39c",
   "metadata": {},
   "source": [
    "## workspace (dense grid)"
   ]
  },
  {
   "cell_type": "code",
   "execution_count": 3,
   "id": "16614df5",
   "metadata": {},
   "outputs": [],
   "source": [
    "#workspace initialization\n",
    "x, y, z = np.ogrid[-30:30:100j, -15:15:100j, -15:15:100j]\n",
    "#voxel dimensions\n",
    "gx = 60/100\n",
    "gy = 30/100\n",
    "gz = 30/100"
   ]
  },
  {
   "cell_type": "markdown",
   "id": "cd736b43",
   "metadata": {},
   "source": [
    "## create 2D polygon"
   ]
  },
  {
   "cell_type": "code",
   "execution_count": 4,
   "id": "e242ead3",
   "metadata": {},
   "outputs": [],
   "source": [
    "#lines generation\n",
    "polyline = []\n",
    "a = np.pi*2/10\n",
    "r = 10\n",
    "for i in range(10):\n",
    "    tr = r\n",
    "    if i % 2:\n",
    "        tr = 5\n",
    "    xp = tr*np.cos(i*a)\n",
    "    yp = tr*np.sin(i*a)\n",
    "    polyline.append((xp, yp, 0))\n",
    "polyline.append(polyline[0]) "
   ]
  },
  {
   "cell_type": "markdown",
   "id": "768a3a86",
   "metadata": {},
   "source": [
    "## create volumetric object"
   ]
  },
  {
   "cell_type": "code",
   "execution_count": 5,
   "id": "8e3dbde5",
   "metadata": {},
   "outputs": [],
   "source": [
    "ve = VolExtrusion(polyline, height=5, frame=Frame((1, 2, 3), (1, 0.3, 0.1), (-0.4, 1, 0.3)))"
   ]
  },
  {
   "cell_type": "markdown",
   "id": "7ac9f217",
   "metadata": {},
   "source": [
    "## sample at discrete interval"
   ]
  },
  {
   "cell_type": "code",
   "execution_count": 6,
   "id": "0b167ea5",
   "metadata": {},
   "outputs": [],
   "source": [
    "dm = ve.get_distance_numpy(x, y, z)"
   ]
  },
  {
   "cell_type": "markdown",
   "id": "a554df5b",
   "metadata": {},
   "source": [
    "## generate isosurface (marching cube)"
   ]
  },
  {
   "cell_type": "code",
   "execution_count": 7,
   "id": "2685b82d",
   "metadata": {},
   "outputs": [],
   "source": [
    "v, f, n, l = marching_cubes(dm, 0, spacing=(gx, gy, gz))"
   ]
  },
  {
   "cell_type": "markdown",
   "id": "237040b8",
   "metadata": {},
   "source": [
    "## display mesh"
   ]
  },
  {
   "cell_type": "code",
   "execution_count": 8,
   "id": "e372ee2f",
   "metadata": {},
   "outputs": [
    {
     "data": {
      "application/vnd.jupyter.widget-view+json": {
       "model_id": "59ce50dba2984aecb42d999175da371d",
       "version_major": 2,
       "version_minor": 0
      },
      "text/plain": [
       "Renderer(camera=PerspectiveCamera(children=(DirectionalLight(color='white', intensity=0.6, position=(30.695908…"
      ]
     },
     "metadata": {},
     "output_type": "display_data"
    },
    {
     "data": {
      "text/plain": [
       "<meshplot.Viewer.Viewer at 0x284467467f0>"
      ]
     },
     "execution_count": 8,
     "metadata": {},
     "output_type": "execute_result"
    }
   ],
   "source": [
    "mp.plot(v, f, c=np.array([0,0.57,0.82]), shading={\"flat\":True, \"roughness\":0.4, \"metalness\":0.01, \"reflectivity\":1.0})"
   ]
  }
 ],
 "metadata": {
  "kernelspec": {
   "display_name": "Python 3 (ipykernel)",
   "language": "python",
   "name": "python3"
  },
  "language_info": {
   "codemirror_mode": {
    "name": "ipython",
    "version": 3
   },
   "file_extension": ".py",
   "mimetype": "text/x-python",
   "name": "python",
   "nbconvert_exporter": "python",
   "pygments_lexer": "ipython3",
   "version": "3.9.6"
  }
 },
 "nbformat": 4,
 "nbformat_minor": 5
}
