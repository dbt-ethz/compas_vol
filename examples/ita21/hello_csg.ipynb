{
 "cells": [
  {
   "cell_type": "markdown",
   "metadata": {},
   "source": [
    "let me know in the chat, if you have questions regarding installation.\n",
    "\n",
    "or even better: bug tom on slack..."
   ]
  },
  {
   "cell_type": "code",
   "execution_count": 1,
   "metadata": {},
   "outputs": [],
   "source": [
    "from compas.geometry import Sphere\n",
    "from compas_vol.primitives import VolSphere"
   ]
  },
  {
   "cell_type": "code",
   "execution_count": 2,
   "metadata": {},
   "outputs": [],
   "source": [
    "import numpy as np\n",
    "import meshplot as mp\n",
    "from skimage.measure import marching_cubes"
   ]
  },
  {
   "cell_type": "code",
   "execution_count": 6,
   "metadata": {},
   "outputs": [],
   "source": [
    "s = Sphere([0,0,0], 4)\n",
    "vs = VolSphere(s)"
   ]
  },
  {
   "cell_type": "code",
   "execution_count": 7,
   "metadata": {},
   "outputs": [],
   "source": [
    "x, y, z = np.ogrid[-5:5:100j, -5:5:100j, -5:5:100j]\n",
    "voxsize = 10.0/100"
   ]
  },
  {
   "cell_type": "code",
   "execution_count": 8,
   "metadata": {},
   "outputs": [],
   "source": [
    "dm = vs.get_distance_numpy(x, y, z)"
   ]
  },
  {
   "cell_type": "code",
   "execution_count": 10,
   "metadata": {},
   "outputs": [
    {
     "data": {
      "text/plain": [
       "((100, 100, 100), numpy.ndarray)"
      ]
     },
     "execution_count": 10,
     "metadata": {},
     "output_type": "execute_result"
    }
   ],
   "source": [
    "dm.shape, type(dm)"
   ]
  },
  {
   "cell_type": "code",
   "execution_count": 11,
   "metadata": {},
   "outputs": [],
   "source": [
    "v, f, n, l = marching_cubes(dm, 0, spacing=(voxsize,voxsize,voxsize))\n",
    "v += [-5,-5,-5]"
   ]
  },
  {
   "cell_type": "code",
   "execution_count": 12,
   "metadata": {},
   "outputs": [
    {
     "name": "stderr",
     "output_type": "stream",
     "text": [
      "/Users/bernham/anaconda3/envs/compasdev/lib/python3.9/site-packages/jupyter_client/session.py:716: UserWarning: Message serialization failed with:\n",
      "Out of range float values are not JSON compliant\n",
      "Supporting this message is deprecated in jupyter-client 7, please make sure your message is JSON-compliant\n",
      "  content = self.pack(content)\n"
     ]
    },
    {
     "data": {
      "application/vnd.jupyter.widget-view+json": {
       "model_id": "d26de7c4994e4c4ea2b0f761a2f2901b",
       "version_major": 2,
       "version_minor": 0
      },
      "text/plain": [
       "Renderer(camera=PerspectiveCamera(children=(DirectionalLight(color='white', intensity=0.6, position=(-0.049999…"
      ]
     },
     "metadata": {},
     "output_type": "display_data"
    }
   ],
   "source": [
    "p = mp.plot(v, f)"
   ]
  },
  {
   "cell_type": "code",
   "execution_count": 14,
   "metadata": {},
   "outputs": [],
   "source": [
    "from compas.geometry import Cylinder, Box, Frame, Circle, Plane\n",
    "from compas_vol.primitives import VolCylinder, VolBox"
   ]
  },
  {
   "cell_type": "code",
   "execution_count": 16,
   "metadata": {},
   "outputs": [],
   "source": [
    "cz = Cylinder(Circle(Plane([0,0,0], [0,0,1]), 2), 12)\n",
    "cy = Cylinder(Circle(Plane([0,0,0], [0,1,0]), 2), 12)\n",
    "cx = Cylinder(Circle(Plane([0,0,0], [1,0,0]), 2), 12)\n",
    "cxv = VolCylinder(cx)\n",
    "cyv = VolCylinder(cy)\n",
    "czv = VolCylinder(cz)"
   ]
  },
  {
   "cell_type": "code",
   "execution_count": 17,
   "metadata": {},
   "outputs": [],
   "source": [
    "b = Box(Frame.worldXY(), 6, 6, 6)\n",
    "vb = VolBox(b)"
   ]
  },
  {
   "cell_type": "code",
   "execution_count": 18,
   "metadata": {},
   "outputs": [],
   "source": [
    "from compas_vol.combinations import Union, Subtraction, Intersection"
   ]
  },
  {
   "cell_type": "code",
   "execution_count": 19,
   "metadata": {},
   "outputs": [],
   "source": [
    "intersection = Intersection(vb, vs)\n",
    "union = Union([cxv, cyv, czv])\n",
    "subtraction = Subtraction(intersection, union)"
   ]
  },
  {
   "cell_type": "code",
   "execution_count": 23,
   "metadata": {},
   "outputs": [],
   "source": [
    "x, y, z = np.ogrid[-5:5:200j, -5:5:200j, -5:5:200j]\n",
    "voxsize = 10.0/200"
   ]
  },
  {
   "cell_type": "code",
   "execution_count": 24,
   "metadata": {},
   "outputs": [],
   "source": [
    "dmhw = subtraction.get_distance_numpy(x, y, z)"
   ]
  },
  {
   "cell_type": "code",
   "execution_count": 25,
   "metadata": {},
   "outputs": [],
   "source": [
    "v, f, n, l = marching_cubes(dmhw, 0, spacing=(voxsize,voxsize,voxsize))\n",
    "v += [-5,-5,-5]"
   ]
  },
  {
   "cell_type": "code",
   "execution_count": 26,
   "metadata": {},
   "outputs": [
    {
     "data": {
      "application/vnd.jupyter.widget-view+json": {
       "model_id": "08e0b376db4c40da9a359d9b1e4bcfc7",
       "version_major": 2,
       "version_minor": 0
      },
      "text/plain": [
       "Renderer(camera=PerspectiveCamera(children=(DirectionalLight(color='white', intensity=0.6, position=(-0.025000…"
      ]
     },
     "metadata": {},
     "output_type": "display_data"
    }
   ],
   "source": [
    "p = mp.plot(v, f)"
   ]
  },
  {
   "cell_type": "code",
   "execution_count": null,
   "metadata": {},
   "outputs": [],
   "source": []
  }
 ],
 "metadata": {
  "interpreter": {
   "hash": "33d385397df59cd89ee8f11cf62a0fa5acb6ea286ede87c6f327b0be07c720a7"
  },
  "kernelspec": {
   "display_name": "Python 3.9.7 64-bit ('compasdev': conda)",
   "language": "python",
   "name": "python3"
  },
  "language_info": {
   "codemirror_mode": {
    "name": "ipython",
    "version": 3
   },
   "file_extension": ".py",
   "mimetype": "text/x-python",
   "name": "python",
   "nbconvert_exporter": "python",
   "pygments_lexer": "ipython3",
   "version": "3.9.7"
  },
  "orig_nbformat": 4
 },
 "nbformat": 4,
 "nbformat_minor": 2
}
