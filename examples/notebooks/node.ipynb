{
 "cells": [
  {
   "cell_type": "code",
   "execution_count": 1,
   "id": "2268345a",
   "metadata": {},
   "outputs": [],
   "source": [
    "from compas.geometry import Frame, Plane\n",
    "from compas.geometry import Box, Sphere\n",
    "from compas_vol.primitives import VolBox, VolSphere\n",
    "from compas_vol.combinations import Union, SmoothUnion, Intersection\n",
    "from compas_vol.modifications import Shell"
   ]
  },
  {
   "cell_type": "code",
   "execution_count": 2,
   "id": "b36b5605",
   "metadata": {},
   "outputs": [],
   "source": [
    "import numpy as np\n",
    "import meshplot as mp\n",
    "from skimage.measure import marching_cubes\n",
    "from compas_vol.utilities import get_random_vector_3D, bbox_edges"
   ]
  },
  {
   "cell_type": "code",
   "execution_count": 3,
   "id": "863c4f8f",
   "metadata": {},
   "outputs": [
    {
     "name": "stdout",
     "output_type": "stream",
     "text": [
      "[(-1.7286968178409143, -2.925471349506095, -0.11499867479968717), (-2.3624861462253874, 0.41738695434016465, -2.4092420673813075), (-3.153882018648314, -0.8188694943728675, 0.9708145876697366), (1.405722249988638, 2.0349770203164015, -2.3329838153470037), (0.9564251570563488, -1.1517657355283182, 3.05265238922034), (0.7311875504395597, 3.262801197934418, -0.6160301200752467), (-3.3274096409580376, -0.6817607380881366, -0.15345154694894073), (-1.8311149653771375, 2.516333185756442, 1.3693375339311769), (2.491704692887145, -1.2404618146584165, 1.9526039562129656), (0.6587968962061715, 2.575145139969862, -2.120050508275384)]\n"
     ]
    }
   ],
   "source": [
    "#generate random points around a sphere\n",
    "nbrPts = 10\n",
    "sphereRad = 3.4\n",
    "pts = [get_random_vector_3D(sphereRad) for _ in range(nbrPts)]\n",
    "print(pts)\n",
    "\n",
    "#u = np.random.normal(size=nbrPts)\n",
    "#v = np.random.normal(size=nbrPts)\n",
    "#w = np.random.normal(size=nbrPts)\n",
    "#norm = (u*u + v*v + w*w)**(0.5)\n",
    "#pts = np.array([u/norm, v/norm, w/norm]).T * sphereRad"
   ]
  },
  {
   "cell_type": "code",
   "execution_count": 4,
   "id": "059c382f",
   "metadata": {},
   "outputs": [],
   "source": [
    "#create volumetric boxes and unify them\n",
    "volBoxes = []\n",
    "for [x,y,z] in pts:\n",
    "    plane = Plane([x,y,z],[x,y,z])\n",
    "    box = Box(Frame.from_plane(plane),1.2,1.2,3.5)\n",
    "    vbox = VolBox(box, 0.1)\n",
    "    volBoxes.append(vbox)\n",
    "uvb = Union(volBoxes)"
   ]
  },
  {
   "cell_type": "code",
   "execution_count": 5,
   "id": "96590a62",
   "metadata": {},
   "outputs": [],
   "source": [
    "#combine core and branches\n",
    "vs = VolSphere(Sphere([0,0,0], 2.0))\n",
    "su = SmoothUnion(uvb, vs, 2.0)"
   ]
  },
  {
   "cell_type": "code",
   "execution_count": 6,
   "id": "b35a2d9f",
   "metadata": {},
   "outputs": [],
   "source": [
    "#thicken shell and cull extremities\n",
    "s = Shell(su, 0.2, 1.0)\n",
    "node = Intersection(VolSphere(Sphere([0,0,0], 4.8)), s)"
   ]
  },
  {
   "cell_type": "code",
   "execution_count": 7,
   "id": "f3f79c99",
   "metadata": {},
   "outputs": [],
   "source": [
    "#workspace initialization\n",
    "# lower and upper bounds\n",
    "lbx, ubx = -5.0, 5.0\n",
    "lby, uby = -5.0, 5.0\n",
    "lbz, ubz = -5.0, 5.0\n",
    "# resolution(s)\n",
    "nx, ny, nz = 100, 100, 100\n",
    "x, y, z = np.ogrid[lbx:ubx:nx*1j, lby:uby:ny*1j, lbz:ubz:nz*1j]\n",
    "#voxel dimensions\n",
    "gx = (ubx-lbx)/nx\n",
    "gy = (uby-lby)/ny\n",
    "gz = (ubz-lbz)/nz"
   ]
  },
  {
   "cell_type": "code",
   "execution_count": 8,
   "id": "b9a5b496",
   "metadata": {},
   "outputs": [],
   "source": [
    "dm = node.get_distance_numpy(x, y, z)"
   ]
  },
  {
   "cell_type": "code",
   "execution_count": 9,
   "id": "e33bd6d5",
   "metadata": {},
   "outputs": [],
   "source": [
    "v, f, n, l = marching_cubes(dm, 0, spacing=(gx, gy, gz))\n",
    "v += [lbx,lby,lbz]"
   ]
  },
  {
   "cell_type": "code",
   "execution_count": 10,
   "id": "db6c3d39",
   "metadata": {},
   "outputs": [
    {
     "name": "stderr",
     "output_type": "stream",
     "text": [
      "/Users/bernham/anaconda3/envs/compasdev/lib/python3.9/site-packages/jupyter_client/session.py:716: UserWarning: Message serialization failed with:\n",
      "Out of range float values are not JSON compliant\n",
      "Supporting this message is deprecated in jupyter-client 7, please make sure your message is JSON-compliant\n",
      "  content = self.pack(content)\n"
     ]
    },
    {
     "data": {
      "application/vnd.jupyter.widget-view+json": {
       "model_id": "94f4ba403b31425891fb3ed7f33b0c24",
       "version_major": 2,
       "version_minor": 0
      },
      "text/plain": [
       "Renderer(camera=PerspectiveCamera(children=(DirectionalLight(color='white', intensity=0.6, position=(-0.447141…"
      ]
     },
     "metadata": {},
     "output_type": "display_data"
    }
   ],
   "source": [
    "p = mp.plot(v, f, c=np.array([0,0.57,0.82]), shading={\"flat\":False, \"roughness\":0.4, \"metalness\":0.01, \"reflectivity\":1.0})"
   ]
  },
  {
   "cell_type": "code",
   "execution_count": null,
   "id": "ed4f42cf",
   "metadata": {},
   "outputs": [],
   "source": []
  }
 ],
 "metadata": {
  "kernelspec": {
   "display_name": "Python 3 (ipykernel)",
   "language": "python",
   "name": "python3"
  },
  "language_info": {
   "codemirror_mode": {
    "name": "ipython",
    "version": 3
   },
   "file_extension": ".py",
   "mimetype": "text/x-python",
   "name": "python",
   "nbconvert_exporter": "python",
   "pygments_lexer": "ipython3",
   "version": "3.9.7"
  }
 },
 "nbformat": 4,
 "nbformat_minor": 5
}
