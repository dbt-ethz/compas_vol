{
 "cells": [
  {
   "cell_type": "markdown",
   "id": "bc03d91b",
   "metadata": {},
   "source": [
    "## import libraries"
   ]
  },
  {
   "cell_type": "code",
   "execution_count": 1,
   "id": "2268345a",
   "metadata": {},
   "outputs": [],
   "source": [
    "from compas.geometry import Frame, Plane\n",
    "from compas.geometry import Box, Sphere\n",
    "from compas_vol.primitives import VolBox, VolSphere\n",
    "from compas_vol.combinations import Union, SmoothUnion, Intersection, SmoothUnionList\n",
    "from compas_vol.modifications import Shell"
   ]
  },
  {
   "cell_type": "code",
   "execution_count": 2,
   "id": "b36b5605",
   "metadata": {},
   "outputs": [],
   "source": [
    "import numpy as np\n",
    "import meshplot as mp\n",
    "from skimage.measure import marching_cubes\n",
    "from compas_vol.utilities import get_random_vector_3D, bbox_edges"
   ]
  },
  {
   "cell_type": "markdown",
   "id": "b3793673",
   "metadata": {},
   "source": [
    "## create volumetric object (CSG tree)"
   ]
  },
  {
   "cell_type": "code",
   "execution_count": 3,
   "id": "863c4f8f",
   "metadata": {},
   "outputs": [
    {
     "name": "stdout",
     "output_type": "stream",
     "text": [
      "[(-2.7610381680420586, -1.6375064690647476, 1.120375293545005), (0.7313615624028013, -2.9617948264811527, -1.5009602495966408), (-1.0420622785111724, -1.3117391278519677, 2.9586224274425867), (0.2906069288595286, -1.2560482325846047, -3.1460912972003725), (-1.1949934611638233, 2.7643008018819146, -1.5781735343398415), (2.2733307377325245, -0.8170545039136314, -2.3925696007671218), (-0.9862064738478581, -2.4452807395553124, -2.146625001182181), (-0.5400449392396329, -1.3423242105474604, 3.07677057600657), (-2.0216625240762007, 2.3586033648719207, -1.3819807545551055), (-1.4718110694901683, -0.1698400281247205, -3.060216747319183), (-1.370798988291391, -1.3005376572585456, 2.826572471342589), (-2.491302108292523, -1.9652373085842796, 1.2211699825027003), (-0.9056644576145831, -3.2300916192915228, 0.5534257142529154), (-0.15778942862743822, 2.7078937776521825, -2.049978971883863), (-0.4717607178887718, 3.0281131049381793, 1.4724037655340085), (-1.3060147912405118, -0.0402483008196528, 3.1389019480292997), (-0.38580129299846627, 3.349219065077948, -0.4403283052894816), (1.298205047626545, 1.4021182098300713, 2.81224610942568), (3.151514556086348, 0.34773187086980534, 1.2276149839250319), (0.823690362474033, 2.9431871829526375, 1.4896923819603543)]\n"
     ]
    }
   ],
   "source": [
    "#generate random points around a sphere\n",
    "nbrPts = 20\n",
    "sphereRad = 3.4\n",
    "pts = [get_random_vector_3D(sphereRad) for _ in range(nbrPts)]\n",
    "print(pts)"
   ]
  },
  {
   "cell_type": "code",
   "execution_count": 4,
   "id": "059c382f",
   "metadata": {},
   "outputs": [],
   "source": [
    "#create volumetric boxes and unify them\n",
    "volBoxes = []\n",
    "for [x,y,z] in pts:\n",
    "    plane = Plane([x,y,z],[x,y,z])\n",
    "    box = Box(Frame.from_plane(plane),1.2,1.2,3.5)\n",
    "    vbox = VolBox(box, 0.1)\n",
    "    volBoxes.append(vbox)\n",
    "uvb = Union(volBoxes)"
   ]
  },
  {
   "cell_type": "code",
   "execution_count": 25,
   "id": "96590a62",
   "metadata": {},
   "outputs": [],
   "source": [
    "#combine core and branches\n",
    "vs = VolSphere(Sphere([0,0,0], 2.0))\n",
    "# su = SmoothUnion(uvb, vs, 2.0)\n",
    "su = SmoothUnionList([uvb, vs], 10.0)"
   ]
  },
  {
   "cell_type": "code",
   "execution_count": 26,
   "id": "b35a2d9f",
   "metadata": {},
   "outputs": [],
   "source": [
    "#thicken shell and cull extremities\n",
    "s = Shell(su, 0.2, 1.0)\n",
    "node = Intersection(VolSphere(Sphere([0,0,0], 4.8)), s)"
   ]
  },
  {
   "cell_type": "markdown",
   "id": "e1c046d9",
   "metadata": {},
   "source": [
    "## workspace (dense grid)"
   ]
  },
  {
   "cell_type": "code",
   "execution_count": 27,
   "id": "f3f79c99",
   "metadata": {},
   "outputs": [],
   "source": [
    "#workspace initialization\n",
    "# lower and upper bounds\n",
    "lbx, ubx = -5.0, 5.0\n",
    "lby, uby = -5.0, 5.0\n",
    "lbz, ubz = -5.0, 5.0\n",
    "# resolution(s)\n",
    "nx, ny, nz = 120, 120, 120\n",
    "x, y, z = np.ogrid[lbx:ubx:nx*1j, lby:uby:ny*1j, lbz:ubz:nz*1j]\n",
    "#voxel dimensions\n",
    "gx = (ubx-lbx)/nx\n",
    "gy = (uby-lby)/ny\n",
    "gz = (ubz-lbz)/nz"
   ]
  },
  {
   "cell_type": "markdown",
   "id": "ff0798f7",
   "metadata": {},
   "source": [
    "## sample at discrete interval"
   ]
  },
  {
   "cell_type": "code",
   "execution_count": 28,
   "id": "b9a5b496",
   "metadata": {},
   "outputs": [],
   "source": [
    "dm = node.get_distance_numpy(x, y, z)"
   ]
  },
  {
   "cell_type": "markdown",
   "id": "f0429e53",
   "metadata": {},
   "source": [
    "## generate isosurface (marching cube)"
   ]
  },
  {
   "cell_type": "code",
   "execution_count": 29,
   "id": "e33bd6d5",
   "metadata": {},
   "outputs": [],
   "source": [
    "v, f, n, l = marching_cubes(dm, 0, spacing=(gx, gy, gz))\n",
    "v += [lbx,lby,lbz]"
   ]
  },
  {
   "cell_type": "markdown",
   "id": "723b62b5",
   "metadata": {},
   "source": [
    "## display mesh"
   ]
  },
  {
   "cell_type": "code",
   "execution_count": 30,
   "id": "db6c3d39",
   "metadata": {},
   "outputs": [
    {
     "data": {
      "application/vnd.jupyter.widget-view+json": {
       "model_id": "b1096c6f895f42c1a90990a0acd9d4cd",
       "version_major": 2,
       "version_minor": 0
      },
      "text/plain": [
       "Renderer(camera=PerspectiveCamera(children=(DirectionalLight(color='white', intensity=0.6, position=(-0.047710…"
      ]
     },
     "metadata": {},
     "output_type": "display_data"
    },
    {
     "data": {
      "text/plain": [
       "2"
      ]
     },
     "execution_count": 30,
     "metadata": {},
     "output_type": "execute_result"
    }
   ],
   "source": [
    "p = mp.plot(v, f, c=np.array([0,0.57,0.82]), shading={\"flat\":False, \"roughness\":0.4, \"metalness\":0.01, \"reflectivity\":1.0})\n",
    "vs,ve = bbox_edges(lbx,ubx,lby,uby,lbz,ubz)\n",
    "p.add_lines(np.array(vs), np.array(ve))\n",
    "p.add_points(np.array([[lbx,lby,lbz]]))"
   ]
  }
 ],
 "metadata": {
  "kernelspec": {
   "display_name": "Python 3 (ipykernel)",
   "language": "python",
   "name": "python3"
  },
  "language_info": {
   "codemirror_mode": {
    "name": "ipython",
    "version": 3
   },
   "file_extension": ".py",
   "mimetype": "text/x-python",
   "name": "python",
   "nbconvert_exporter": "python",
   "pygments_lexer": "ipython3",
   "version": "3.9.6"
  }
 },
 "nbformat": 4,
 "nbformat_minor": 5
}
