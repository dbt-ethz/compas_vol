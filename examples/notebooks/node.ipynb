{
 "cells": [
  {
   "cell_type": "markdown",
   "id": "bc03d91b",
   "metadata": {},
   "source": [
    "## import libraries"
   ]
  },
  {
   "cell_type": "code",
   "execution_count": 12,
   "id": "2268345a",
   "metadata": {},
   "outputs": [],
   "source": [
    "from compas.geometry import Frame, Plane\n",
    "from compas.geometry import Box, Sphere\n",
    "from compas_vol.primitives import VolBox, VolSphere\n",
    "from compas_vol.combinations import Union, SmoothUnion, Intersection\n",
    "from compas_vol.modifications import Shell"
   ]
  },
  {
   "cell_type": "code",
   "execution_count": 13,
   "id": "b36b5605",
   "metadata": {},
   "outputs": [],
   "source": [
    "import numpy as np\n",
    "import meshplot as mp\n",
    "from skimage.measure import marching_cubes\n",
    "from compas_vol.utilities import get_random_vector_3D, bbox_edges"
   ]
  },
  {
   "cell_type": "markdown",
   "id": "b3793673",
   "metadata": {},
   "source": [
    "## create volumetric object (CSG tree)"
   ]
  },
  {
   "cell_type": "code",
   "execution_count": 22,
   "id": "863c4f8f",
   "metadata": {},
   "outputs": [
    {
     "name": "stdout",
     "output_type": "stream",
     "text": [
      "[(2.766175296576979, -1.0671202033830507, -1.6641901033652908), (3.2112307205824195, -0.32130357576106355, -1.0699351715832446), (-0.0799724467819307, -3.399016390030881, -0.01708765803586938), (0.7683923455070174, 0.5885803390540784, -3.259316859074185), (0.6048189322132206, -1.6148820410929599, -2.9302474387996478), (-2.005523871311858, -2.416877580726789, 1.3025270674264393), (-1.2137529019492768, 3.1571325880586483, 0.34542396330858455), (2.2750161154458, 0.2321241932834713, 2.5160325978322295), (-2.1696811151286535, -1.3231219651509285, -2.2587235607725944), (2.087081042446428, -1.6297984169783526, 2.132568836468259), (0.8053205146382563, 2.1780089765158297, -2.4834926548953677), (-2.5279634227741834, -0.5365555722993888, -2.2094137346704237), (0.9756060411708112, 3.244199073901206, -0.28873036094178467), (-2.8416469468339702, -1.8658472613462498, -0.06047004941187737), (-1.5875044722425207, -2.4232380250782444, 1.7798165704433946), (-1.4910216948403847, -2.4451677622579857, 1.8324870858834397), (-3.154982259264825, -0.37215861690894475, 1.2114391885623645), (2.350001256544829, -0.0686943773117464, -2.4561708362333996), (-0.8670630428156825, 2.7469991019509754, 1.806155478817852), (-1.325468119846931, 1.4244915621978407, -2.788181854272888)]\n"
     ]
    }
   ],
   "source": [
    "#generate random points around a sphere\n",
    "nbrPts = 20\n",
    "sphereRad = 3.4\n",
    "pts = [get_random_vector_3D(sphereRad) for _ in range(nbrPts)]\n",
    "print(pts)"
   ]
  },
  {
   "cell_type": "code",
   "execution_count": 23,
   "id": "059c382f",
   "metadata": {},
   "outputs": [],
   "source": [
    "#create volumetric boxes and unify them\n",
    "volBoxes = []\n",
    "for [x,y,z] in pts:\n",
    "    plane = Plane([x,y,z],[x,y,z])\n",
    "    box = Box(Frame.from_plane(plane),1.2,1.2,3.5)\n",
    "    vbox = VolBox(box, 0.1)\n",
    "    volBoxes.append(vbox)\n",
    "uvb = Union(volBoxes)"
   ]
  },
  {
   "cell_type": "code",
   "execution_count": 24,
   "id": "96590a62",
   "metadata": {},
   "outputs": [],
   "source": [
    "#combine core and branches\n",
    "vs = VolSphere(Sphere([0,0,0], 2.0))\n",
    "su = SmoothUnion(uvb, vs, 2.0)"
   ]
  },
  {
   "cell_type": "code",
   "execution_count": 25,
   "id": "b35a2d9f",
   "metadata": {},
   "outputs": [],
   "source": [
    "#thicken shell and cull extremities\n",
    "s = Shell(su, 0.2, 1.0)\n",
    "node = Intersection(VolSphere(Sphere([0,0,0], 4.8)), s)"
   ]
  },
  {
   "cell_type": "markdown",
   "id": "e1c046d9",
   "metadata": {},
   "source": [
    "## workspace (dense grid)"
   ]
  },
  {
   "cell_type": "code",
   "execution_count": 26,
   "id": "f3f79c99",
   "metadata": {},
   "outputs": [],
   "source": [
    "#workspace initialization\n",
    "# lower and upper bounds\n",
    "lbx, ubx = -5.0, 5.0\n",
    "lby, uby = -5.0, 5.0\n",
    "lbz, ubz = -5.0, 5.0\n",
    "# resolution(s)\n",
    "nx, ny, nz = 100, 100, 100\n",
    "x, y, z = np.ogrid[lbx:ubx:nx*1j, lby:uby:ny*1j, lbz:ubz:nz*1j]\n",
    "#voxel dimensions\n",
    "gx = (ubx-lbx)/nx\n",
    "gy = (uby-lby)/ny\n",
    "gz = (ubz-lbz)/nz"
   ]
  },
  {
   "cell_type": "markdown",
   "id": "ff0798f7",
   "metadata": {},
   "source": [
    "## sample at discrete interval"
   ]
  },
  {
   "cell_type": "code",
   "execution_count": 27,
   "id": "b9a5b496",
   "metadata": {},
   "outputs": [],
   "source": [
    "dm = node.get_distance_numpy(x, y, z)"
   ]
  },
  {
   "cell_type": "markdown",
   "id": "f0429e53",
   "metadata": {},
   "source": [
    "## generate isosurface (marching cube)"
   ]
  },
  {
   "cell_type": "code",
   "execution_count": 28,
   "id": "e33bd6d5",
   "metadata": {},
   "outputs": [],
   "source": [
    "v, f, n, l = marching_cubes(dm, 0, spacing=(gx, gy, gz))\n",
    "v += [lbx,lby,lbz]"
   ]
  },
  {
   "cell_type": "markdown",
   "id": "723b62b5",
   "metadata": {},
   "source": [
    "## display mesh"
   ]
  },
  {
   "cell_type": "code",
   "execution_count": 29,
   "id": "db6c3d39",
   "metadata": {},
   "outputs": [
    {
     "data": {
      "application/vnd.jupyter.widget-view+json": {
       "model_id": "ea4d0b8e9f854fedb0e940d242b28832",
       "version_major": 2,
       "version_minor": 0
      },
      "text/plain": [
       "Renderer(camera=PerspectiveCamera(children=(DirectionalLight(color='white', intensity=0.6, position=(-0.021509…"
      ]
     },
     "metadata": {},
     "output_type": "display_data"
    },
    {
     "data": {
      "text/plain": [
       "2"
      ]
     },
     "execution_count": 29,
     "metadata": {},
     "output_type": "execute_result"
    }
   ],
   "source": [
    "p = mp.plot(v, f, c=np.array([0,0.57,0.82]), shading={\"flat\":False, \"roughness\":0.4, \"metalness\":0.01, \"reflectivity\":1.0})\n",
    "vs,ve = bbox_edges(lbx,ubx,lby,uby,lbz,ubz)\n",
    "p.add_lines(np.array(vs), np.array(ve))\n",
    "p.add_points(np.array([[lbx,lby,lbz]]))"
   ]
  }
 ],
 "metadata": {
  "kernelspec": {
   "display_name": "Python 3 (ipykernel)",
   "language": "python",
   "name": "python3"
  },
  "language_info": {
   "codemirror_mode": {
    "name": "ipython",
    "version": 3
   },
   "file_extension": ".py",
   "mimetype": "text/x-python",
   "name": "python",
   "nbconvert_exporter": "python",
   "pygments_lexer": "ipython3",
   "version": "3.9.6"
  }
 },
 "nbformat": 4,
 "nbformat_minor": 5
}
