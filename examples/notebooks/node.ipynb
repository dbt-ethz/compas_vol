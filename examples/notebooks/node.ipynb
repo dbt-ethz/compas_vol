{
 "cells": [
  {
   "cell_type": "markdown",
   "id": "bc03d91b",
   "metadata": {},
   "source": [
    "## import libraries"
   ]
  },
  {
   "cell_type": "code",
   "execution_count": 52,
   "id": "2268345a",
   "metadata": {},
   "outputs": [],
   "source": [
    "from compas.geometry import Frame, Plane, Polyhedron, Vector\n",
    "from compas.geometry import Box, Sphere\n",
    "from compas_vol.primitives import VolBox, VolSphere\n",
    "from compas_vol.combinations import Union, SmoothUnion, Intersection, SmoothUnionList\n",
    "from compas_vol.modifications import Shell"
   ]
  },
  {
   "cell_type": "code",
   "execution_count": 2,
   "id": "b36b5605",
   "metadata": {},
   "outputs": [],
   "source": [
    "import numpy as np\n",
    "import meshplot as mp\n",
    "from skimage.measure import marching_cubes\n",
    "from compas_vol.utilities import get_random_vector_3D, bbox_edges"
   ]
  },
  {
   "cell_type": "markdown",
   "id": "b3793673",
   "metadata": {},
   "source": [
    "## create volumetric object (CSG tree)"
   ]
  },
  {
   "cell_type": "code",
   "execution_count": 53,
   "id": "1090742f",
   "metadata": {},
   "outputs": [],
   "source": [
    "# generate points on a sphere for the edges meeting in the node\n",
    "polyh = Polyhedron.from_platonicsolid(20)\n",
    "pts = polyh.vertices"
   ]
  },
  {
   "cell_type": "code",
   "execution_count": 54,
   "id": "059c382f",
   "metadata": {},
   "outputs": [],
   "source": [
    "#create volumetric boxes and unify them\n",
    "sphereRad = 3.4\n",
    "volBoxes = []\n",
    "for [x,y,z] in pts:\n",
    "    v = Vector(x,y,z)\n",
    "    v.unitize()\n",
    "    v *= sphereRad\n",
    "    plane = Plane([v.x, v.y, v.z],[v.x, v.y, v.z])\n",
    "    box = Box(Frame.from_plane(plane),1.2,1.2,3.5)\n",
    "    vbox = VolBox(box, 0.1)\n",
    "    volBoxes.append(vbox)\n",
    "uvb = Union(volBoxes)"
   ]
  },
  {
   "cell_type": "code",
   "execution_count": 105,
   "id": "96590a62",
   "metadata": {},
   "outputs": [],
   "source": [
    "#combine core and branches\n",
    "vs = VolSphere(Sphere([0,0,0], 2.5))\n",
    "#su = SmoothUnion(uvb, vs, 3.0)\n",
    "su = SmoothUnionList([uvb, vs], 5.0)"
   ]
  },
  {
   "cell_type": "code",
   "execution_count": 106,
   "id": "b35a2d9f",
   "metadata": {},
   "outputs": [],
   "source": [
    "#thicken shell and cull extremities\n",
    "s = Shell(su, 0.2, 1.0)\n",
    "node = Intersection(VolSphere(Sphere([0,0,0], 4.8)), s)"
   ]
  },
  {
   "cell_type": "markdown",
   "id": "e1c046d9",
   "metadata": {},
   "source": [
    "## workspace (dense grid)"
   ]
  },
  {
   "cell_type": "code",
   "execution_count": 107,
   "id": "f3f79c99",
   "metadata": {},
   "outputs": [],
   "source": [
    "#workspace initialization\n",
    "# lower and upper bounds\n",
    "lbx, ubx = -5.0, 5.0\n",
    "lby, uby = -5.0, 5.0\n",
    "lbz, ubz = -5.0, 5.0\n",
    "# resolution(s)\n",
    "nx, ny, nz = 120, 120, 120\n",
    "x, y, z = np.ogrid[lbx:ubx:nx*1j, lby:uby:ny*1j, lbz:ubz:nz*1j]\n",
    "#voxel dimensions\n",
    "gx = (ubx-lbx)/nx\n",
    "gy = (uby-lby)/ny\n",
    "gz = (ubz-lbz)/nz"
   ]
  },
  {
   "cell_type": "markdown",
   "id": "ff0798f7",
   "metadata": {},
   "source": [
    "## sample at discrete interval"
   ]
  },
  {
   "cell_type": "code",
   "execution_count": 108,
   "id": "b9a5b496",
   "metadata": {},
   "outputs": [],
   "source": [
    "dm = node.get_distance_numpy(x, y, z)"
   ]
  },
  {
   "cell_type": "markdown",
   "id": "f0429e53",
   "metadata": {},
   "source": [
    "## generate isosurface (marching cube)"
   ]
  },
  {
   "cell_type": "code",
   "execution_count": 109,
   "id": "e33bd6d5",
   "metadata": {},
   "outputs": [],
   "source": [
    "v, f, n, l = marching_cubes(dm, 0, spacing=(gx, gy, gz))\n",
    "v += [lbx,lby,lbz]"
   ]
  },
  {
   "cell_type": "markdown",
   "id": "723b62b5",
   "metadata": {},
   "source": [
    "## display mesh"
   ]
  },
  {
   "cell_type": "code",
   "execution_count": 110,
   "id": "db6c3d39",
   "metadata": {},
   "outputs": [
    {
     "data": {
      "application/vnd.jupyter.widget-view+json": {
       "model_id": "34791a20f0bb4006aa718a5afb16c788",
       "version_major": 2,
       "version_minor": 0
      },
      "text/plain": [
       "Renderer(camera=PerspectiveCamera(children=(DirectionalLight(color='white', intensity=0.6, position=(-0.041666…"
      ]
     },
     "metadata": {},
     "output_type": "display_data"
    },
    {
     "data": {
      "text/plain": [
       "1"
      ]
     },
     "execution_count": 110,
     "metadata": {},
     "output_type": "execute_result"
    }
   ],
   "source": [
    "p = mp.plot(v, f, c=np.array([0,0.57,0.82]), shading={\"flat\":False, \"roughness\":0.4, \"metalness\":0.01, \"reflectivity\":1.0})\n",
    "vs,ve = bbox_edges(lbx,ubx,lby,uby,lbz,ubz)\n",
    "p.add_lines(np.array(vs), np.array(ve))"
   ]
  },
  {
   "cell_type": "code",
   "execution_count": 66,
   "id": "2ed9372d",
   "metadata": {},
   "outputs": [],
   "source": [
    "import matplotlib.pyplot as plt\n",
    "from ipywidgets import interactive"
   ]
  },
  {
   "cell_type": "code",
   "execution_count": null,
   "id": "ed7a7344",
   "metadata": {},
   "outputs": [],
   "source": [
    "#dm[dm>0] /= dm.max()\n",
    "#dm[dm<0] /= -dm.min()"
   ]
  },
  {
   "cell_type": "code",
   "execution_count": 113,
   "id": "d99af773",
   "metadata": {},
   "outputs": [],
   "source": [
    "def slice(z=0):\n",
    "    plt.figure(figsize=(10,10))\n",
    "    plt.imshow(dm[:,:,z], cmap='RdBu', extent=[lbx,ubx,uby,lby])"
   ]
  },
  {
   "cell_type": "code",
   "execution_count": 114,
   "id": "211cc270",
   "metadata": {},
   "outputs": [
    {
     "data": {
      "application/vnd.jupyter.widget-view+json": {
       "model_id": "3695fbd8d03e42e4adcdb9c733c069a3",
       "version_major": 2,
       "version_minor": 0
      },
      "text/plain": [
       "interactive(children=(IntSlider(value=0, description='z', max=119), Output()), _dom_classes=('widget-interact'…"
      ]
     },
     "metadata": {},
     "output_type": "display_data"
    }
   ],
   "source": [
    "interactive(slice, z=(0,nz-1,1))"
   ]
  },
  {
   "cell_type": "code",
   "execution_count": null,
   "id": "98807009",
   "metadata": {},
   "outputs": [],
   "source": []
  }
 ],
 "metadata": {
  "kernelspec": {
   "display_name": "Python 3 (ipykernel)",
   "language": "python",
   "name": "python3"
  },
  "language_info": {
   "codemirror_mode": {
    "name": "ipython",
    "version": 3
   },
   "file_extension": ".py",
   "mimetype": "text/x-python",
   "name": "python",
   "nbconvert_exporter": "python",
   "pygments_lexer": "ipython3",
   "version": "3.9.7"
  }
 },
 "nbformat": 4,
 "nbformat_minor": 5
}
