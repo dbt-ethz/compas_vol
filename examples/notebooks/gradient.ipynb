{
 "cells": [
  {
   "cell_type": "markdown",
   "id": "f6c47672",
   "metadata": {},
   "source": [
    "## import librairies"
   ]
  },
  {
   "cell_type": "code",
   "execution_count": 1,
   "id": "ae0abc59",
   "metadata": {},
   "outputs": [],
   "source": [
    "from compas_vol.analysis import Gradient\n",
    "from compas.geometry import Point, Sphere\n",
    "from compas_vol.primitives import VolSphere"
   ]
  },
  {
   "cell_type": "code",
   "execution_count": 2,
   "id": "c711ea5d",
   "metadata": {},
   "outputs": [],
   "source": [
    "import numpy as np\n",
    "import meshplot as mp\n",
    "from skimage.measure import marching_cubes\n",
    "from compas_vol.utilities import add_cube"
   ]
  },
  {
   "cell_type": "markdown",
   "id": "7f7b24fa",
   "metadata": {},
   "source": [
    "## create volumetric object"
   ]
  },
  {
   "cell_type": "code",
   "execution_count": 3,
   "id": "9ffe4c2f",
   "metadata": {},
   "outputs": [],
   "source": [
    "vs = VolSphere(Sphere(Point(30, 30, 30), 25.))"
   ]
  },
  {
   "cell_type": "markdown",
   "id": "d9271476",
   "metadata": {},
   "source": [
    "## analyse gradient"
   ]
  },
  {
   "cell_type": "code",
   "execution_count": 4,
   "id": "5d6be0cb",
   "metadata": {},
   "outputs": [],
   "source": [
    "g = Gradient(vs)"
   ]
  },
  {
   "cell_type": "markdown",
   "id": "8fb23903",
   "metadata": {},
   "source": [
    "## workspace (dense grid)"
   ]
  },
  {
   "cell_type": "code",
   "execution_count": 5,
   "id": "777adc88",
   "metadata": {},
   "outputs": [],
   "source": [
    "#workspace initialization\n",
    "# lower and upper bounds\n",
    "lbx, ubx = -30.0, 30.0\n",
    "lby, uby = -30.0, 30.0\n",
    "lbz, ubz = -30.0, 30.0\n",
    "# resolution(s)\n",
    "nx, ny, nz = 100, 100, 100\n",
    "x, y, z = np.ogrid[lbx:ubx:nx*1j, lby:uby:ny*1j, lbz:ubz:nz*1j]\n",
    "#voxel dimensions\n",
    "gx = (ubx-lbx)/nx\n",
    "gy = (uby-lby)/ny\n",
    "gz = (ubz-lbz)/nz"
   ]
  },
  {
   "cell_type": "markdown",
   "id": "d7a965e1",
   "metadata": {},
   "source": [
    "## sample at discrete interval"
   ]
  },
  {
   "cell_type": "code",
   "execution_count": 6,
   "id": "f3289121",
   "metadata": {},
   "outputs": [],
   "source": [
    "dm = vs.get_distance_numpy(x, y, z)\n",
    "gm = g.get_gradient_numpy(x, y, z)"
   ]
  },
  {
   "cell_type": "code",
   "execution_count": 7,
   "id": "ae4dd70f",
   "metadata": {},
   "outputs": [
    {
     "name": "stdout",
     "output_type": "stream",
     "text": [
      "(100, 100, 100)\n",
      "(100, 100, 100, 3)\n"
     ]
    }
   ],
   "source": [
    "print(dm.shape)\n",
    "print(gm.shape)"
   ]
  },
  {
   "cell_type": "markdown",
   "id": "3ae38e3b",
   "metadata": {},
   "source": [
    "## generate isosurface (marching cube)"
   ]
  },
  {
   "cell_type": "code",
   "execution_count": 8,
   "id": "8812de34",
   "metadata": {},
   "outputs": [],
   "source": [
    "v, f, n, l = marching_cubes(dm, 0, spacing=(gx,gy,gz))\n",
    "v += [lbx,lby,lbz]"
   ]
  },
  {
   "cell_type": "markdown",
   "id": "fdfdc1c7",
   "metadata": {},
   "source": [
    "## display mesh"
   ]
  },
  {
   "cell_type": "code",
   "execution_count": 9,
   "id": "3db47b73",
   "metadata": {},
   "outputs": [],
   "source": [
    "\n",
    "gm2d = np.reshape(np.swapaxes(gm,0,1), (x.shape[0]*y.shape[1]*z.shape[2], 3))\n",
    "pts = np.reshape(np.stack(np.meshgrid(x,y,z), axis=3), (x.shape[0]*y.shape[1]*z.shape[2], 3))"
   ]
  },
  {
   "cell_type": "code",
   "execution_count": 10,
   "id": "87263a8b",
   "metadata": {},
   "outputs": [],
   "source": [
    "# create factor based on distance matrix\n",
    "f = np.reshape(dm, (x.shape[0]*y.shape[1]*z.shape[2]))[..., np.newaxis]\n",
    "f = np.interp(f, (f.min(), f.max()), (-6, 6))"
   ]
  },
  {
   "cell_type": "code",
   "execution_count": 11,
   "id": "6a2bc91f",
   "metadata": {},
   "outputs": [
    {
     "name": "stderr",
     "output_type": "stream",
     "text": [
      "/Users/bernham/anaconda3/envs/compasdev/lib/python3.9/site-packages/jupyter_client/session.py:716: UserWarning: Message serialization failed with:\n",
      "Out of range float values are not JSON compliant\n",
      "Supporting this message is deprecated in jupyter-client 7, please make sure your message is JSON-compliant\n",
      "  content = self.pack(content)\n"
     ]
    },
    {
     "data": {
      "application/vnd.jupyter.widget-view+json": {
       "model_id": "6983ced4356f494888579b6d23b357b2",
       "version_major": 2,
       "version_minor": 0
      },
      "text/plain": [
       "Renderer(camera=PerspectiveCamera(children=(DirectionalLight(color='white', intensity=0.6, position=(0.0, 0.0,…"
      ]
     },
     "metadata": {},
     "output_type": "display_data"
    },
    {
     "data": {
      "text/plain": [
       "2"
      ]
     },
     "execution_count": 11,
     "metadata": {},
     "output_type": "execute_result"
    }
   ],
   "source": [
    "p = mp.plot(np.zeros(1))\n",
    "p.add_lines(pts, pts-gm2d*f, shading={\"line_color\": \"blue\"})\n",
    "vs,ve = add_cube(lbx,ubx,lby,uby,lbz,ubz)\n",
    "p.add_lines(np.array(vs), np.array(ve))"
   ]
  }
 ],
 "metadata": {
  "kernelspec": {
   "display_name": "Python 3 (ipykernel)",
   "language": "python",
   "name": "python3"
  },
  "language_info": {
   "codemirror_mode": {
    "name": "ipython",
    "version": 3
   },
   "file_extension": ".py",
   "mimetype": "text/x-python",
   "name": "python",
   "nbconvert_exporter": "python",
   "pygments_lexer": "ipython3",
   "version": "3.9.7"
  }
 },
 "nbformat": 4,
 "nbformat_minor": 5
}
