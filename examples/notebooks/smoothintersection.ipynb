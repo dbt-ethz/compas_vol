{
 "cells": [
  {
   "cell_type": "markdown",
   "id": "a2bb4910",
   "metadata": {},
   "source": [
    "## import libraries"
   ]
  },
  {
   "cell_type": "code",
   "execution_count": 2,
   "id": "16681ca1",
   "metadata": {},
   "outputs": [],
   "source": [
    "from compas_vol.primitives import VolSphere, VolBox\n",
    "from compas_vol.combinations import SmoothIntersection\n",
    "from compas.geometry import Box, Frame, Point, Sphere"
   ]
  },
  {
   "cell_type": "code",
   "execution_count": 1,
   "id": "c62f7a90",
   "metadata": {},
   "outputs": [],
   "source": [
    "import numpy as np\n",
    "import meshplot as mp\n",
    "from skimage.measure import marching_cubes\n",
    "from compas_vol.utilities import add_cube"
   ]
  },
  {
   "cell_type": "markdown",
   "id": "de507cb3",
   "metadata": {},
   "source": [
    "## create volumetric object (CSG tree)"
   ]
  },
  {
   "cell_type": "code",
   "execution_count": 4,
   "id": "feb979a3",
   "metadata": {},
   "outputs": [],
   "source": [
    "s = Sphere(Point(5, 6, 0), 9)\n",
    "b = Box(Frame.worldXY(), 20, 15, 10)\n",
    "vs = VolSphere(s)\n",
    "vb = VolBox(b, 2.5)\n",
    "u = SmoothIntersection(vs, vb, 2.5)"
   ]
  },
  {
   "cell_type": "markdown",
   "id": "dab8f1df",
   "metadata": {},
   "source": [
    "## workspace (dense grid)"
   ]
  },
  {
   "cell_type": "code",
   "execution_count": 3,
   "id": "7ac286c4",
   "metadata": {},
   "outputs": [],
   "source": [
    "#workspace initialization\n",
    "# lower and upper bounds\n",
    "lbx, ubx = -30.0, 30.0\n",
    "lby, uby = -30.0, 30.0\n",
    "lbz, ubz = -30.0, 30.0\n",
    "# resolution(s)\n",
    "nx, ny, nz = 100, 100, 100\n",
    "x, y, z = np.ogrid[lbx:ubx:nx*1j, lby:uby:ny*1j, lbz:ubz:nz*1j]\n",
    "#voxel dimensions\n",
    "gx = (ubx-lbx)/nx\n",
    "gy = (uby-lby)/ny\n",
    "gz = (ubz-lbz)/nz"
   ]
  },
  {
   "cell_type": "markdown",
   "id": "76d102dd",
   "metadata": {},
   "source": [
    "## sample at discrete interval"
   ]
  },
  {
   "cell_type": "code",
   "execution_count": 5,
   "id": "8562f6f2",
   "metadata": {},
   "outputs": [],
   "source": [
    "dm = u.get_distance_numpy(x, y, z)"
   ]
  },
  {
   "cell_type": "markdown",
   "id": "ba75d537",
   "metadata": {},
   "source": [
    "## generate isosurface (marching cube)"
   ]
  },
  {
   "cell_type": "code",
   "execution_count": 6,
   "id": "87bfa05d",
   "metadata": {},
   "outputs": [],
   "source": [
    "v, f, n, l = marching_cubes(dm, 0, spacing=(gx, gy, gz))\n",
    "v += [lbx,lby,lbz]"
   ]
  },
  {
   "cell_type": "markdown",
   "id": "189f6645",
   "metadata": {},
   "source": [
    "## display mesh"
   ]
  },
  {
   "cell_type": "code",
   "execution_count": 8,
   "id": "78fcbc0e",
   "metadata": {},
   "outputs": [
    {
     "data": {
      "application/vnd.jupyter.widget-view+json": {
       "model_id": "ba72e86cdf414168a4fd91f4912a48b5",
       "version_major": 2,
       "version_minor": 0
      },
      "text/plain": [
       "Renderer(camera=PerspectiveCamera(children=(DirectionalLight(color='white', intensity=0.6, position=(32.693736…"
      ]
     },
     "metadata": {},
     "output_type": "display_data"
    },
    {
     "data": {
      "text/plain": [
       "<meshplot.Viewer.Viewer at 0x20a38f90a30>"
      ]
     },
     "execution_count": 8,
     "metadata": {},
     "output_type": "execute_result"
    }
   ],
   "source": [
    "p = mp.plot(v, f, c=np.array([0,0.57,0.82]), shading={\"flat\":False, \"roughness\":0.4, \"metalness\":0.01, \"reflectivity\":1.0})\n",
    "vs,ve = add_cube(lbx,ubx,lby,uby,lbz,ubz)\n",
    "p.add_lines(np.array(vs), np.array(ve))"
   ]
  }
 ],
 "metadata": {
  "kernelspec": {
   "display_name": "Python 3 (ipykernel)",
   "language": "python",
   "name": "python3"
  },
  "language_info": {
   "codemirror_mode": {
    "name": "ipython",
    "version": 3
   },
   "file_extension": ".py",
   "mimetype": "text/x-python",
   "name": "python",
   "nbconvert_exporter": "python",
   "pygments_lexer": "ipython3",
   "version": "3.9.6"
  }
 },
 "nbformat": 4,
 "nbformat_minor": 5
}
