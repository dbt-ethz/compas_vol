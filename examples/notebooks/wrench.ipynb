{
 "cells": [
  {
   "cell_type": "markdown",
   "id": "c7d7e256",
   "metadata": {},
   "source": [
    "## import libraries"
   ]
  },
  {
   "cell_type": "code",
   "execution_count": 1,
   "metadata": {
    "scrolled": true
   },
   "outputs": [],
   "source": [
    "from compas_vol.primitives import VolBox, VolCylinder, VolPlane\n",
    "from compas_vol.modifications import Overlay, Shell\n",
    "from compas_vol.combinations import Intersection, Union, Subtraction\n",
    "from compas_vol.microstructures import TPMS\n",
    "from compas.geometry import Box, Frame, Point, Plane, Cylinder, Circle"
   ]
  },
  {
   "cell_type": "code",
   "execution_count": 2,
   "metadata": {},
   "outputs": [],
   "source": [
    "import numpy as np\n",
    "import meshplot as mp\n",
    "from skimage.measure import marching_cubes\n",
    "from compas_vol.utilities import add_cube"
   ]
  },
  {
   "cell_type": "markdown",
   "id": "8ba84f40",
   "metadata": {},
   "source": [
    "## create volumetric object (CSG tree)"
   ]
  },
  {
   "cell_type": "code",
   "execution_count": 3,
   "metadata": {},
   "outputs": [],
   "source": [
    "shaft = VolBox(Box(Frame.worldXY(), 250, 30, 10), 1.5)\n",
    "cyl_plane = Plane((125,0,0),(0,0,1))\n",
    "roundcap = VolCylinder(Cylinder(Circle(cyl_plane, 15), 10))\n",
    "handle = Union(shaft, roundcap)\n",
    "gyroid = TPMS(tpmstype='Gyroid', wavelength=5.0)\n",
    "shell = Shell(gyroid, 2.0, 0.5)\n",
    "ol_plane = VolPlane(Plane((0,0,0), (1,0,0)))\n",
    "thicken_tpms = Overlay(shell, ol_plane, 0.005)\n",
    "taper = Overlay(handle, ol_plane, -0.01)\n",
    "porous_handle = Intersection(thicken_tpms, taper)\n",
    "solid_outer = VolCylinder(Cylinder(Circle(cyl_plane, 12), 13))\n",
    "void_inner = VolCylinder(Cylinder(Circle(cyl_plane, 10), 20))\n",
    "hole_reinforce = Union(porous_handle, solid_outer)\n",
    "wrench = Subtraction(hole_reinforce, void_inner)\n"
   ]
  },
  {
   "cell_type": "markdown",
   "id": "1c1ba547",
   "metadata": {},
   "source": [
    "## workspace (dense grid)"
   ]
  },
  {
   "cell_type": "code",
   "execution_count": 8,
   "id": "912650e8",
   "metadata": {},
   "outputs": [],
   "source": [
    "#workspace initialization\n",
    "# lower and upper bounds\n",
    "lbx, ubx = -145.0, 145.0\n",
    "lby, uby = -18.0, 18.0\n",
    "lbz, ubz = -8.0, 8.0\n",
    "# resolution(s)\n",
    "nx, ny, nz = 580, 72, 32\n",
    "x, y, z = np.ogrid[lbx:ubx:nx*1j, lby:uby:ny*1j, lbz:ubz:nz*1j]\n",
    "#voxel dimensions\n",
    "gx = (ubx-lbx)/nx\n",
    "gy = (uby-lby)/ny\n",
    "gz = (ubz-lbz)/nz"
   ]
  },
  {
   "cell_type": "markdown",
   "id": "c8df3620",
   "metadata": {},
   "source": [
    "## sample at discrete interval"
   ]
  },
  {
   "cell_type": "code",
   "execution_count": 9,
   "id": "5ae7ff82",
   "metadata": {},
   "outputs": [],
   "source": [
    "dm = wrench.get_distance_numpy(x, y, z)"
   ]
  },
  {
   "cell_type": "markdown",
   "id": "980cc6a9",
   "metadata": {},
   "source": [
    "## generate isosurface (marching cube)"
   ]
  },
  {
   "cell_type": "code",
   "execution_count": 10,
   "id": "c1764afd",
   "metadata": {},
   "outputs": [],
   "source": [
    "v, f, n, l = marching_cubes(dm, 0, spacing=(gx, gy, gz))\n",
    "v += [lbx,lby,lbz]"
   ]
  },
  {
   "cell_type": "markdown",
   "id": "af04a4b4",
   "metadata": {},
   "source": [
    "## display mesh"
   ]
  },
  {
   "cell_type": "code",
   "execution_count": 11,
   "id": "a49909a7",
   "metadata": {},
   "outputs": [
    {
     "data": {
      "application/vnd.jupyter.widget-view+json": {
       "model_id": "de8a75a1cd74477e8db90439745e933c",
       "version_major": 2,
       "version_minor": 0
      },
      "text/plain": [
       "Renderer(camera=PerspectiveCamera(children=(DirectionalLight(color='white', intensity=0.6, position=(8.5459213…"
      ]
     },
     "metadata": {},
     "output_type": "display_data"
    },
    {
     "data": {
      "text/plain": [
       "2"
      ]
     },
     "execution_count": 11,
     "metadata": {},
     "output_type": "execute_result"
    }
   ],
   "source": [
    "p = mp.plot(v, f, c=np.array([0,0.57,0.82]), shading={\"flat\":False, \"roughness\":0.4, \"metalness\":0.01, \"reflectivity\":1.0})\n",
    "vs,ve = add_cube(lbx,ubx,lby,uby,lbz,ubz)\n",
    "p.add_lines(np.array(vs), np.array(ve))\n",
    "p.add_points(np.array([[lbx,lby,lbz]]))"
   ]
  },
  {
   "cell_type": "code",
   "execution_count": null,
   "metadata": {},
   "outputs": [],
   "source": []
  }
 ],
 "metadata": {
  "interpreter": {
   "hash": "33d385397df59cd89ee8f11cf62a0fa5acb6ea286ede87c6f327b0be07c720a7"
  },
  "kernelspec": {
   "display_name": "Python 3.9.7 64-bit ('compasdev': conda)",
   "language": "python",
   "name": "python3"
  },
  "language_info": {
   "codemirror_mode": {
    "name": "ipython",
    "version": 3
   },
   "file_extension": ".py",
   "mimetype": "text/x-python",
   "name": "python",
   "nbconvert_exporter": "python",
   "pygments_lexer": "ipython3",
   "version": "3.9.7"
  },
  "orig_nbformat": 4
 },
 "nbformat": 4,
 "nbformat_minor": 2
}
