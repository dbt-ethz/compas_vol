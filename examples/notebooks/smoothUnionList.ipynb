{
 "cells": [
  {
   "cell_type": "markdown",
   "id": "32b10dea",
   "metadata": {},
   "source": [
    "## import libraries"
   ]
  },
  {
   "cell_type": "code",
   "execution_count": 2,
   "id": "91f353c3",
   "metadata": {},
   "outputs": [],
   "source": [
    "from compas.geometry import Point, Sphere\n",
    "from compas_vol.primitives import VolSphere\n",
    "from compas_vol.combinations import SmoothUnionList\n",
    "import matplotlib.pyplot as plt"
   ]
  },
  {
   "cell_type": "code",
   "execution_count": 3,
   "id": "4938e884",
   "metadata": {},
   "outputs": [],
   "source": [
    "import random\n",
    "import numpy as np\n",
    "import meshplot as mp\n",
    "from skimage.measure import marching_cubes\n",
    "from compas_vol.utilities import get_random_vector_3D, bbox_edges"
   ]
  },
  {
   "cell_type": "markdown",
   "id": "925a375c",
   "metadata": {},
   "source": [
    "## create volumetric object (CSG tree)"
   ]
  },
  {
   "cell_type": "code",
   "execution_count": 12,
   "id": "87929035",
   "metadata": {},
   "outputs": [],
   "source": [
    "#generate spheres\n",
    "spheres = []\n",
    "for i in range(16):\n",
    "    x = 10-random.random()*20\n",
    "    y = 10-random.random()*20\n",
    "    r = 3-random.random()*2\n",
    "    s = Sphere(Point(x, y, 0), r)\n",
    "    vs = VolSphere(s)\n",
    "    spheres.append(vs)"
   ]
  },
  {
   "cell_type": "code",
   "execution_count": 13,
   "id": "2f01d839",
   "metadata": {},
   "outputs": [],
   "source": [
    "#volumetric modeling smooth union of spheres list\n",
    "sul = SmoothUnionList(spheres, 1.2)"
   ]
  },
  {
   "cell_type": "markdown",
   "id": "4c3cfcee",
   "metadata": {},
   "source": [
    "## workspace (dense grid)"
   ]
  },
  {
   "cell_type": "code",
   "execution_count": 14,
   "id": "48cfa6b3",
   "metadata": {},
   "outputs": [],
   "source": [
    "#workspace initialization\n",
    "# lower and upper bounds\n",
    "lbx, ubx = -15.0, 15.0\n",
    "lby, uby = -15.0, 15.0\n",
    "lbz, ubz = -15.0, 15.0\n",
    "# resolution(s)\n",
    "nx, ny, nz = 100, 100, 100\n",
    "x, y, z = np.ogrid[lbx:ubx:nx*1j, lby:uby:ny*1j, lbz:ubz:nz*1j]\n",
    "#voxel dimensions\n",
    "gx = (ubx-lbx)/nx\n",
    "gy = (uby-lby)/ny\n",
    "gz = (ubz-lbz)/nz"
   ]
  },
  {
   "cell_type": "markdown",
   "id": "538803d6",
   "metadata": {},
   "source": [
    "## sample at discrete interval"
   ]
  },
  {
   "cell_type": "code",
   "execution_count": 15,
   "id": "0bbccd12",
   "metadata": {},
   "outputs": [],
   "source": [
    "dm = sul.get_distance_numpy(x, y, z)"
   ]
  },
  {
   "cell_type": "markdown",
   "id": "2882cd49",
   "metadata": {},
   "source": [
    "## generate isosurface (marching cube)"
   ]
  },
  {
   "cell_type": "code",
   "execution_count": 16,
   "id": "67882c91",
   "metadata": {},
   "outputs": [],
   "source": [
    "v, f, n, l = marching_cubes(dm, 0, spacing=(gx, gy, gz))\n",
    "v += [lbx,lby,lbz]"
   ]
  },
  {
   "cell_type": "markdown",
   "id": "925b9082",
   "metadata": {},
   "source": [
    "## display mesh"
   ]
  },
  {
   "cell_type": "code",
   "execution_count": 17,
   "id": "2051b907",
   "metadata": {},
   "outputs": [
    {
     "data": {
      "application/vnd.jupyter.widget-view+json": {
       "model_id": "be3c45c9e0a44081a041a0bad07c5c74",
       "version_major": 2,
       "version_minor": 0
      },
      "text/plain": [
       "Renderer(camera=PerspectiveCamera(children=(DirectionalLight(color='white', intensity=0.6, position=(-0.150000…"
      ]
     },
     "metadata": {},
     "output_type": "display_data"
    },
    {
     "data": {
      "text/plain": [
       "2"
      ]
     },
     "execution_count": 17,
     "metadata": {},
     "output_type": "execute_result"
    }
   ],
   "source": [
    "p = mp.plot(v, f, c=np.array([0,0.57,0.82]), shading={\"flat\":False, \"roughness\":0.4, \"metalness\":0.01, \"reflectivity\":1.0})\n",
    "vs,ve = bbox_edges(lbx,ubx,lby,uby,lbz,ubz)\n",
    "p.add_lines(np.array(vs), np.array(ve))\n",
    "p.add_points(np.array([[lbx,lby,lbz]]))"
   ]
  }
 ],
 "metadata": {
  "kernelspec": {
   "display_name": "Python 3 (ipykernel)",
   "language": "python",
   "name": "python3"
  },
  "language_info": {
   "codemirror_mode": {
    "name": "ipython",
    "version": 3
   },
   "file_extension": ".py",
   "mimetype": "text/x-python",
   "name": "python",
   "nbconvert_exporter": "python",
   "pygments_lexer": "ipython3",
   "version": "3.9.6"
  }
 },
 "nbformat": 4,
 "nbformat_minor": 5
}
