{
 "cells": [
  {
   "cell_type": "markdown",
   "id": "0a378732",
   "metadata": {},
   "source": [
    "## import libraries"
   ]
  },
  {
   "cell_type": "code",
   "execution_count": 1,
   "id": "e0bb366e",
   "metadata": {},
   "outputs": [],
   "source": [
    "from compas_vol.combinations import Morph\n",
    "from compas_vol.primitives import VolSphere, VolBox\n",
    "from compas.geometry import Box, Frame, Point, Sphere"
   ]
  },
  {
   "cell_type": "code",
   "execution_count": 2,
   "id": "e27e1685",
   "metadata": {},
   "outputs": [],
   "source": [
    "import numpy as np\n",
    "import meshplot as mp\n",
    "from skimage.measure import marching_cubes\n",
    "from compas_vol.utilities import bbox_edges"
   ]
  },
  {
   "cell_type": "markdown",
   "id": "8ccd4b63",
   "metadata": {},
   "source": [
    "## create volumetric object (CSG tree)"
   ]
  },
  {
   "cell_type": "code",
   "execution_count": 3,
   "id": "35bd9aef",
   "metadata": {},
   "outputs": [],
   "source": [
    "s = Sphere(Point(5, 6, 0), 9)\n",
    "b = Box(Frame.worldXY(), 20, 15, 10)\n",
    "vs = VolSphere(s)\n",
    "vb = VolBox(b, 2.5)\n",
    "u = Morph(vs, vb, 0.5)"
   ]
  },
  {
   "cell_type": "markdown",
   "id": "f0d22536",
   "metadata": {},
   "source": [
    "## workspace (dense grid)"
   ]
  },
  {
   "cell_type": "code",
   "execution_count": 8,
   "id": "e7931e2b",
   "metadata": {},
   "outputs": [],
   "source": [
    "#workspace initialization\n",
    "# lower and upper bounds\n",
    "lbx, ubx = -16.0, 16.0\n",
    "lby, uby = -16.0, 16.0\n",
    "lbz, ubz = -16.0, 16.0\n",
    "# resolution(s)\n",
    "nx, ny, nz = 100, 100, 100\n",
    "x, y, z = np.ogrid[lbx:ubx:nx*1j, lby:uby:ny*1j, lbz:ubz:nz*1j]\n",
    "#voxel dimensions\n",
    "gx = (ubx-lbx)/nx\n",
    "gy = (uby-lby)/ny\n",
    "gz = (ubz-lbz)/nz"
   ]
  },
  {
   "cell_type": "markdown",
   "id": "1a28fb47",
   "metadata": {},
   "source": [
    "## sample at discrete interval (marching cube)"
   ]
  },
  {
   "cell_type": "code",
   "execution_count": 9,
   "id": "361fbefd",
   "metadata": {},
   "outputs": [],
   "source": [
    "dm = u.get_distance_numpy(x, y, z)"
   ]
  },
  {
   "cell_type": "markdown",
   "id": "458c73cd",
   "metadata": {},
   "source": [
    "## generate isosurface (marching cube)"
   ]
  },
  {
   "cell_type": "code",
   "execution_count": 10,
   "id": "6534d9a5",
   "metadata": {},
   "outputs": [],
   "source": [
    "v, f, n, l = marching_cubes(dm, 0, spacing=(gx, gy, gz))\n",
    "v += [lbx,lby,lbz]"
   ]
  },
  {
   "cell_type": "markdown",
   "id": "259f92f9",
   "metadata": {},
   "source": [
    "## display mesh"
   ]
  },
  {
   "cell_type": "code",
   "execution_count": 11,
   "id": "63cf1e4c",
   "metadata": {},
   "outputs": [
    {
     "data": {
      "application/vnd.jupyter.widget-view+json": {
       "model_id": "2c55951218234815ae41bfd3d0d78c11",
       "version_major": 2,
       "version_minor": 0
      },
      "text/plain": [
       "Renderer(camera=PerspectiveCamera(children=(DirectionalLight(color='white', intensity=0.6, position=(2.3331675…"
      ]
     },
     "metadata": {},
     "output_type": "display_data"
    },
    {
     "data": {
      "text/plain": [
       "1"
      ]
     },
     "execution_count": 11,
     "metadata": {},
     "output_type": "execute_result"
    }
   ],
   "source": [
    "p = mp.plot(v, f, c=np.array([0,0.57,0.82]), shading={\"flat\":False, \"roughness\":0.4, \"metalness\":0.01, \"reflectivity\":1.0})\n",
    "vs,ve = bbox_edges(lbx,ubx,lby,uby,lbz,ubz)\n",
    "p.add_lines(np.array(vs), np.array(ve))"
   ]
  },
  {
   "cell_type": "code",
   "execution_count": null,
   "id": "28007c8e",
   "metadata": {},
   "outputs": [],
   "source": []
  }
 ],
 "metadata": {
  "kernelspec": {
   "display_name": "Python 3 (ipykernel)",
   "language": "python",
   "name": "python3"
  },
  "language_info": {
   "codemirror_mode": {
    "name": "ipython",
    "version": 3
   },
   "file_extension": ".py",
   "mimetype": "text/x-python",
   "name": "python",
   "nbconvert_exporter": "python",
   "pygments_lexer": "ipython3",
   "version": "3.9.7"
  }
 },
 "nbformat": 4,
 "nbformat_minor": 5
}
