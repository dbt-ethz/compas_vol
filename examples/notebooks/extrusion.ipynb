{
 "cells": [
  {
   "cell_type": "markdown",
   "id": "eb4021e5",
   "metadata": {},
   "source": [
    "## import librairies"
   ]
  },
  {
   "cell_type": "code",
   "execution_count": 1,
   "id": "13ec7d92",
   "metadata": {},
   "outputs": [],
   "source": [
    "from compas_vol.primitives import VolExtrusion\n",
    "from compas.geometry import Frame"
   ]
  },
  {
   "cell_type": "code",
   "execution_count": 2,
   "id": "671e8fc0",
   "metadata": {},
   "outputs": [],
   "source": [
    "import numpy as np\n",
    "import meshplot as mp\n",
    "from skimage.measure import marching_cubes\n",
    "from compas_vol.utilities import bbox_edges"
   ]
  },
  {
   "cell_type": "markdown",
   "id": "884ab39c",
   "metadata": {},
   "source": [
    "## workspace (dense grid)"
   ]
  },
  {
   "cell_type": "code",
   "execution_count": 3,
   "id": "16614df5",
   "metadata": {},
   "outputs": [],
   "source": [
    "#workspace initialization\n",
    "# lower and upper bounds\n",
    "lbx, ubx = -30.0, 30.0\n",
    "lby, uby = -30.0, 30.0\n",
    "lbz, ubz = -30.0, 30.0\n",
    "# resolution(s)\n",
    "nx, ny, nz = 100, 100, 100\n",
    "x, y, z = np.ogrid[lbx:ubx:nx*1j, lby:uby:ny*1j, lbz:ubz:nz*1j]\n",
    "#voxel dimensions\n",
    "gx = (ubx-lbx)/nx\n",
    "gy = (uby-lby)/ny\n",
    "gz = (ubz-lbz)/nz"
   ]
  },
  {
   "cell_type": "markdown",
   "id": "cd736b43",
   "metadata": {},
   "source": [
    "## create 2D polygon"
   ]
  },
  {
   "cell_type": "code",
   "execution_count": 23,
   "id": "e242ead3",
   "metadata": {},
   "outputs": [],
   "source": [
    "#lines generation\n",
    "polyline = []\n",
    "# star polygon\n",
    "n = 10\n",
    "a = np.pi*2/n\n",
    "r = 25\n",
    "for i in range(n):\n",
    "    tr = r\n",
    "    if i % 2:\n",
    "        tr = 15\n",
    "    xp = tr*np.cos(i*a)\n",
    "    yp = tr*np.sin(i*a)\n",
    "    polyline.append((xp, yp, 0))\n",
    "# close polyline\n",
    "polyline.append(polyline[0]) "
   ]
  },
  {
   "cell_type": "markdown",
   "id": "768a3a86",
   "metadata": {},
   "source": [
    "## create volumetric object"
   ]
  },
  {
   "cell_type": "code",
   "execution_count": 24,
   "id": "8e3dbde5",
   "metadata": {},
   "outputs": [],
   "source": [
    "ve = VolExtrusion(polyline, height=15, frame=Frame((1, 2, 3), (1, 0.3, 0.1), (-0.4, 1, 0.3)))"
   ]
  },
  {
   "cell_type": "markdown",
   "id": "7ac9f217",
   "metadata": {},
   "source": [
    "## sample at discrete interval"
   ]
  },
  {
   "cell_type": "code",
   "execution_count": 25,
   "id": "0b167ea5",
   "metadata": {},
   "outputs": [],
   "source": [
    "dm = ve.get_distance_numpy(x, y, z)"
   ]
  },
  {
   "cell_type": "markdown",
   "id": "a554df5b",
   "metadata": {},
   "source": [
    "## generate isosurface (marching cube)"
   ]
  },
  {
   "cell_type": "code",
   "execution_count": 26,
   "id": "2685b82d",
   "metadata": {},
   "outputs": [],
   "source": [
    "v, f, n, l = marching_cubes(dm, 0, spacing=(gx, gy, gz))\n",
    "v += [lbx,lby,lbz]"
   ]
  },
  {
   "cell_type": "markdown",
   "id": "237040b8",
   "metadata": {},
   "source": [
    "## display mesh"
   ]
  },
  {
   "cell_type": "code",
   "execution_count": 31,
   "id": "e372ee2f",
   "metadata": {},
   "outputs": [
    {
     "name": "stderr",
     "output_type": "stream",
     "text": [
      "/Users/bernham/anaconda3/envs/compasdev/lib/python3.9/site-packages/jupyter_client/session.py:716: UserWarning: Message serialization failed with:\n",
      "Out of range float values are not JSON compliant\n",
      "Supporting this message is deprecated in jupyter-client 7, please make sure your message is JSON-compliant\n",
      "  content = self.pack(content)\n"
     ]
    },
    {
     "data": {
      "application/vnd.jupyter.widget-view+json": {
       "model_id": "81b006bb723745b68afe470cab78f219",
       "version_major": 2,
       "version_minor": 0
      },
      "text/plain": [
       "Renderer(camera=PerspectiveCamera(children=(DirectionalLight(color='white', intensity=0.6, position=(0.7028388…"
      ]
     },
     "metadata": {},
     "output_type": "display_data"
    },
    {
     "data": {
      "text/plain": [
       "1"
      ]
     },
     "execution_count": 31,
     "metadata": {},
     "output_type": "execute_result"
    }
   ],
   "source": [
    "p = mp.plot(v, f, c=np.array([0,0.57,0.82]), shading={\"flat\":True, \"roughness\":0.4, \"metalness\":0.01, \"reflectivity\":1.0})\n",
    "vs,ve = bbox_edges(lbx,ubx,lby,uby,lbz,ubz)\n",
    "p.add_lines(np.array(vs), np.array(ve))"
   ]
  },
  {
   "cell_type": "code",
   "execution_count": null,
   "id": "367b815f",
   "metadata": {},
   "outputs": [],
   "source": []
  }
 ],
 "metadata": {
  "kernelspec": {
   "display_name": "Python 3 (ipykernel)",
   "language": "python",
   "name": "python3"
  },
  "language_info": {
   "codemirror_mode": {
    "name": "ipython",
    "version": 3
   },
   "file_extension": ".py",
   "mimetype": "text/x-python",
   "name": "python",
   "nbconvert_exporter": "python",
   "pygments_lexer": "ipython3",
   "version": "3.9.7"
  }
 },
 "nbformat": 4,
 "nbformat_minor": 5
}
