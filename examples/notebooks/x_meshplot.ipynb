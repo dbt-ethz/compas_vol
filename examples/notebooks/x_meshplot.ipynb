{
 "cells": [
  {
   "cell_type": "markdown",
   "metadata": {},
   "source": [
    "# Meshplot Example"
   ]
  },
  {
   "cell_type": "code",
   "execution_count": 1,
   "metadata": {},
   "outputs": [],
   "source": [
    "import numpy as np\n",
    "import meshplot as mp\n",
    "from skimage.measure import marching_cubes\n",
    "\n",
    "from compas.geometry import Point, Frame, Box\n",
    "from compas_vol.primitives import VolBox"
   ]
  },
  {
   "cell_type": "code",
   "execution_count": 2,
   "metadata": {},
   "outputs": [],
   "source": [
    "box = Box(Frame(Point(0,0,0), (1,0.2,-0.3), (0,1,0.4)), 25, 20, 15)\n",
    "vbox = VolBox(box, 4.0)"
   ]
  },
  {
   "cell_type": "code",
   "execution_count": 13,
   "metadata": {},
   "outputs": [],
   "source": [
    "x, y = np.ogrid[-20:20:128j,-20:20:128j]\n",
    "dm = vbox.get_distance_numpy(x, y, 0)"
   ]
  },
  {
   "cell_type": "code",
   "execution_count": 10,
   "metadata": {},
   "outputs": [],
   "source": [
    "xx = np.linspace(-20,20,128)\n",
    "yy = np.linspace(-20,20,128)\n",
    "v = np.meshgrid(xx,yy)"
   ]
  },
  {
   "cell_type": "code",
   "execution_count": 11,
   "metadata": {},
   "outputs": [
    {
     "data": {
      "text/plain": [
       "array([[-20.        , -20.        ,   0.        ],\n",
       "       [-20.        , -19.68503937,   0.        ],\n",
       "       [-20.        , -19.37007874,   0.        ],\n",
       "       [-20.        , -19.05511811,   0.        ],\n",
       "       [-20.        , -18.74015748,   0.        ]])"
      ]
     },
     "execution_count": 11,
     "metadata": {},
     "output_type": "execute_result"
    }
   ],
   "source": [
    "v3 = np.zeros((128**2,3))\n",
    "v3[:,0] = v[1].reshape(-1)\n",
    "v3[:,1] = v[0].reshape(-1)\n",
    "v3[:5,:]"
   ]
  },
  {
   "cell_type": "code",
   "execution_count": 3,
   "metadata": {},
   "outputs": [],
   "source": [
    "x, y, z = np.ogrid[-20:20:128j,-20:20:128j,-20:20:128j]\n",
    "dm3 = vbox.get_distance_numpy(x, y, z)"
   ]
  },
  {
   "cell_type": "code",
   "execution_count": 4,
   "metadata": {},
   "outputs": [],
   "source": [
    "# calculate voxel size\n",
    "g = 40/128.0\n",
    "# generate isosurface (MC mesh)\n",
    "vm, fm, n, l = marching_cubes(dm3, 0, spacing=(g,g,g))\n",
    "# move mesh to origin\n",
    "vm -= 20"
   ]
  },
  {
   "cell_type": "markdown",
   "metadata": {},
   "source": [
    "## Visualization"
   ]
  },
  {
   "cell_type": "code",
   "execution_count": 14,
   "metadata": {},
   "outputs": [
    {
     "data": {
      "application/vnd.jupyter.widget-view+json": {
       "model_id": "9c351a77218a4b089a622f64dc7c8aba",
       "version_major": 2,
       "version_minor": 0
      },
      "text/plain": [
       "Renderer(camera=PerspectiveCamera(children=(DirectionalLight(color='white', intensity=0.6, position=(-0.156249…"
      ]
     },
     "metadata": {},
     "output_type": "display_data"
    },
    {
     "data": {
      "text/plain": [
       "1"
      ]
     },
     "execution_count": 14,
     "metadata": {},
     "output_type": "execute_result"
    }
   ],
   "source": [
    "p = mp.plot(vm, fm, shading={\"flat\":False})\n",
    "p.add_points(v3, c=np.sin(dm.reshape(-1)), shading={\"point_size\": 2.5})"
   ]
  },
  {
   "cell_type": "code",
   "execution_count": null,
   "metadata": {},
   "outputs": [],
   "source": []
  }
 ],
 "metadata": {
  "interpreter": {
   "hash": "33d385397df59cd89ee8f11cf62a0fa5acb6ea286ede87c6f327b0be07c720a7"
  },
  "kernelspec": {
   "display_name": "Python 3.9.7 64-bit ('compasdev': conda)",
   "language": "python",
   "name": "python3"
  },
  "language_info": {
   "codemirror_mode": {
    "name": "ipython",
    "version": 3
   },
   "file_extension": ".py",
   "mimetype": "text/x-python",
   "name": "python",
   "nbconvert_exporter": "python",
   "pygments_lexer": "ipython3",
   "version": "3.9.7"
  },
  "orig_nbformat": 4
 },
 "nbformat": 4,
 "nbformat_minor": 2
}
